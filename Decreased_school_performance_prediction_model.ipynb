{
 "cells": [
  {
   "cell_type": "markdown",
   "metadata": {},
   "source": [
    "### Desafío 2 Prueba - Rendimiento escolar\n",
    "\n",
    "<br>\n",
    "<br>\n",
    "\n",
    "Nombre: **Juan Pablo Ramírez**\n",
    "\n",
    "Profesor: Heriberto Briceño - Gonzalo Seguel\n",
    "\n",
    "Generación: **G-16**"
   ]
  },
  {
   "cell_type": "markdown",
   "metadata": {},
   "source": [
    "#### Enunciado\n",
    "Lo contactan de una escuela Portuguesa para generar un modelo que identifique aquellos alumnos que presentan un bajo desempeño académico, medido en el promedio final del año escolar. Para ello le envían un archivo con registros sociodemográficos y conductuales de los alumnos dos escuelas para perfilar a los estudiantes.\n",
    "\n",
    "De manera adicional la psicopedagoga sugiere inspeccionar una batería de preguntas asociadas a aspectos ambientales del alumno (de famrel a health ) y ver si éstas se pueden abstraer en categorías latentes."
   ]
  },
  {
   "cell_type": "markdown",
   "metadata": {},
   "source": [
    "# Hito 1"
   ]
  },
  {
   "cell_type": "markdown",
   "metadata": {},
   "source": [
    "Completar el punto de Preliminares, así como Aspectos computacionales.\n",
    "\n",
    "Elementos a considerar en éste hito:\n",
    "* Los dos enunciados deben estar clarificados, considerando el tipo de problema a resolver (regresión o clasificación). Para cada uno de los enunciados y su problema identificado, se debe justificar el uso de métricas para medir el desempeño del problema. (3 puntos)\n",
    "* Se debe considerar el uso de las librerías asociadas para la ingesta, preprocesamiento, visualización y modelación, así como métricas de evaluación. (1 punto)\n",
    "* Se debe detallar y considerar el proceso de preprocesamiento y recodificación de datos. (1 punto)"
   ]
  },
  {
   "cell_type": "markdown",
   "metadata": {},
   "source": [
    "# Descripción"
   ]
  },
  {
   "cell_type": "markdown",
   "metadata": {},
   "source": [
    "#### 1) Importación de liberías y definición de especificaciones"
   ]
  },
  {
   "cell_type": "code",
   "execution_count": 1,
   "metadata": {},
   "outputs": [],
   "source": [
    "import pandas as pd\n",
    "import numpy as np\n",
    "import matplotlib.pyplot as plt\n",
    "import seaborn as sns\n",
    "from scipy import stats\n",
    "import statsmodels.api as sm\n",
    "import statsmodels.formula.api as smf\n",
    "import warnings\n",
    "import missingno as msno\n",
    "from sklearn.linear_model import LogisticRegression\n",
    "from sklearn.model_selection import train_test_split\n",
    "from sklearn.preprocessing import StandardScaler\n",
    "from sklearn.metrics import accuracy_score\n",
    "from sklearn.metrics import precision_score\n",
    "from sklearn.metrics import recall_score\n",
    "from sklearn.metrics import f1_score\n",
    "from sklearn.metrics import roc_curve\n",
    "from sklearn.metrics import roc_auc_score\n",
    "from funciones import *\n",
    "\n",
    "# Especificaciones\n",
    "warnings.filterwarnings(action= 'ignore')\n",
    "plt.style.use('seaborn-whitegrid')"
   ]
  },
  {
   "cell_type": "markdown",
   "metadata": {},
   "source": [
    "#### 2) Caracterización del Dataframe"
   ]
  },
  {
   "cell_type": "code",
   "execution_count": 2,
   "metadata": {},
   "outputs": [],
   "source": [
    "df = pd.read_csv('students.csv')"
   ]
  },
  {
   "cell_type": "code",
   "execution_count": 3,
   "metadata": {},
   "outputs": [
    {
     "data": {
      "text/plain": [
       "(395, 1)"
      ]
     },
     "execution_count": 3,
     "metadata": {},
     "output_type": "execute_result"
    }
   ],
   "source": [
    "df.shape"
   ]
  },
  {
   "cell_type": "code",
   "execution_count": 4,
   "metadata": {},
   "outputs": [
    {
     "data": {
      "text/html": [
       "<div>\n",
       "<style scoped>\n",
       "    .dataframe tbody tr th:only-of-type {\n",
       "        vertical-align: middle;\n",
       "    }\n",
       "\n",
       "    .dataframe tbody tr th {\n",
       "        vertical-align: top;\n",
       "    }\n",
       "\n",
       "    .dataframe thead th {\n",
       "        text-align: right;\n",
       "    }\n",
       "</style>\n",
       "<table border=\"1\" class=\"dataframe\">\n",
       "  <thead>\n",
       "    <tr style=\"text-align: right;\">\n",
       "      <th></th>\n",
       "      <th>|school|sex|age|address|famsize|Pstatus|Medu|Fedu|Mjob|Fjob|reason|guardian|traveltime|studytime|failures|schoolsup|famsup|paid|activities|nursery|higher|internet|romantic|famrel|freetime|goout|Dalc|Walc|health|absences|G1|G2|G3</th>\n",
       "    </tr>\n",
       "  </thead>\n",
       "  <tbody>\n",
       "    <tr>\n",
       "      <td>264</td>\n",
       "      <td>264|GP|F|\"\"\"18\"\"\"|U|GT3|T|2|2|at_home|services...</td>\n",
       "    </tr>\n",
       "  </tbody>\n",
       "</table>\n",
       "</div>"
      ],
      "text/plain": [
       "    |school|sex|age|address|famsize|Pstatus|Medu|Fedu|Mjob|Fjob|reason|guardian|traveltime|studytime|failures|schoolsup|famsup|paid|activities|nursery|higher|internet|romantic|famrel|freetime|goout|Dalc|Walc|health|absences|G1|G2|G3\n",
       "264  264|GP|F|\"\"\"18\"\"\"|U|GT3|T|2|2|at_home|services...                                                                                                                                                                                  "
      ]
     },
     "execution_count": 4,
     "metadata": {},
     "output_type": "execute_result"
    }
   ],
   "source": [
    "df.sample()"
   ]
  },
  {
   "cell_type": "markdown",
   "metadata": {},
   "source": [
    "#### Situación\n",
    "Al leer el dataframe, Pandas considera la existencia de 1 sola columna debido a que el separador por defecto es una coma. Para corregir la situación, se reasigna el separador asignando el valor '|' al parámetro 'sep' de read_csv, lo cual corrige la situación."
   ]
  },
  {
   "cell_type": "code",
   "execution_count": 5,
   "metadata": {},
   "outputs": [],
   "source": [
    "df1 = pd.read_csv('students.csv', sep= '|')"
   ]
  },
  {
   "cell_type": "code",
   "execution_count": 6,
   "metadata": {},
   "outputs": [
    {
     "data": {
      "text/plain": [
       "(395, 34)"
      ]
     },
     "execution_count": 6,
     "metadata": {},
     "output_type": "execute_result"
    }
   ],
   "source": [
    "df1.shape"
   ]
  },
  {
   "cell_type": "code",
   "execution_count": 7,
   "metadata": {},
   "outputs": [
    {
     "data": {
      "text/html": [
       "<div>\n",
       "<style scoped>\n",
       "    .dataframe tbody tr th:only-of-type {\n",
       "        vertical-align: middle;\n",
       "    }\n",
       "\n",
       "    .dataframe tbody tr th {\n",
       "        vertical-align: top;\n",
       "    }\n",
       "\n",
       "    .dataframe thead th {\n",
       "        text-align: right;\n",
       "    }\n",
       "</style>\n",
       "<table border=\"1\" class=\"dataframe\">\n",
       "  <thead>\n",
       "    <tr style=\"text-align: right;\">\n",
       "      <th></th>\n",
       "      <th>Unnamed: 0</th>\n",
       "      <th>school</th>\n",
       "      <th>sex</th>\n",
       "      <th>age</th>\n",
       "      <th>address</th>\n",
       "      <th>famsize</th>\n",
       "      <th>Pstatus</th>\n",
       "      <th>Medu</th>\n",
       "      <th>Fedu</th>\n",
       "      <th>Mjob</th>\n",
       "      <th>...</th>\n",
       "      <th>famrel</th>\n",
       "      <th>freetime</th>\n",
       "      <th>goout</th>\n",
       "      <th>Dalc</th>\n",
       "      <th>Walc</th>\n",
       "      <th>health</th>\n",
       "      <th>absences</th>\n",
       "      <th>G1</th>\n",
       "      <th>G2</th>\n",
       "      <th>G3</th>\n",
       "    </tr>\n",
       "  </thead>\n",
       "  <tbody>\n",
       "    <tr>\n",
       "      <td>84</td>\n",
       "      <td>84</td>\n",
       "      <td>GP</td>\n",
       "      <td>F</td>\n",
       "      <td>\"15\"</td>\n",
       "      <td>U</td>\n",
       "      <td>GT3</td>\n",
       "      <td>T</td>\n",
       "      <td>1</td>\n",
       "      <td>1</td>\n",
       "      <td>other</td>\n",
       "      <td>...</td>\n",
       "      <td>4</td>\n",
       "      <td>3</td>\n",
       "      <td>\"2\"</td>\n",
       "      <td>2</td>\n",
       "      <td>3</td>\n",
       "      <td>\"4\"</td>\n",
       "      <td>2</td>\n",
       "      <td>9</td>\n",
       "      <td>10</td>\n",
       "      <td>10</td>\n",
       "    </tr>\n",
       "  </tbody>\n",
       "</table>\n",
       "<p>1 rows × 34 columns</p>\n",
       "</div>"
      ],
      "text/plain": [
       "    Unnamed: 0 school sex   age address famsize Pstatus Medu Fedu   Mjob  ...  \\\n",
       "84          84     GP   F  \"15\"       U     GT3       T    1    1  other  ...   \n",
       "\n",
       "   famrel freetime goout Dalc Walc health absences G1  G2  G3  \n",
       "84      4        3   \"2\"    2    3    \"4\"        2  9  10  10  \n",
       "\n",
       "[1 rows x 34 columns]"
      ]
     },
     "execution_count": 7,
     "metadata": {},
     "output_type": "execute_result"
    }
   ],
   "source": [
    "df1.sample()"
   ]
  },
  {
   "cell_type": "code",
   "execution_count": 8,
   "metadata": {},
   "outputs": [
    {
     "data": {
      "text/plain": [
       "Unnamed: 0     int64\n",
       "school        object\n",
       "sex           object\n",
       "age           object\n",
       "address       object\n",
       "famsize       object\n",
       "Pstatus       object\n",
       "Medu          object\n",
       "Fedu          object\n",
       "Mjob          object\n",
       "Fjob          object\n",
       "reason        object\n",
       "guardian      object\n",
       "traveltime    object\n",
       "studytime     object\n",
       "failures      object\n",
       "schoolsup     object\n",
       "famsup        object\n",
       "paid          object\n",
       "activities    object\n",
       "nursery       object\n",
       "higher        object\n",
       "internet      object\n",
       "romantic      object\n",
       "famrel        object\n",
       "freetime      object\n",
       "goout         object\n",
       "Dalc          object\n",
       "Walc          object\n",
       "health        object\n",
       "absences      object\n",
       "G1            object\n",
       "G2             int64\n",
       "G3            object\n",
       "dtype: object"
      ]
     },
     "execution_count": 8,
     "metadata": {},
     "output_type": "execute_result"
    }
   ],
   "source": [
    "df1.dtypes"
   ]
  },
  {
   "cell_type": "markdown",
   "metadata": {},
   "source": [
    "#### 3) Cantidad de datos perdidos"
   ]
  },
  {
   "cell_type": "code",
   "execution_count": 9,
   "metadata": {},
   "outputs": [
    {
     "data": {
      "text/html": [
       "<div>\n",
       "<style scoped>\n",
       "    .dataframe tbody tr th:only-of-type {\n",
       "        vertical-align: middle;\n",
       "    }\n",
       "\n",
       "    .dataframe tbody tr th {\n",
       "        vertical-align: top;\n",
       "    }\n",
       "\n",
       "    .dataframe thead th {\n",
       "        text-align: right;\n",
       "    }\n",
       "</style>\n",
       "<table border=\"1\" class=\"dataframe\">\n",
       "  <thead>\n",
       "    <tr style=\"text-align: right;\">\n",
       "      <th></th>\n",
       "      <th>Columna</th>\n",
       "      <th>Cantidad sem validade</th>\n",
       "      <th>Cantidad nulidade</th>\n",
       "      <th>Cantidad zero</th>\n",
       "    </tr>\n",
       "  </thead>\n",
       "  <tbody>\n",
       "    <tr>\n",
       "      <td>0</td>\n",
       "      <td>Unnamed: 0</td>\n",
       "      <td>0</td>\n",
       "      <td>0</td>\n",
       "      <td>0</td>\n",
       "    </tr>\n",
       "    <tr>\n",
       "      <td>1</td>\n",
       "      <td>school</td>\n",
       "      <td>2</td>\n",
       "      <td>1</td>\n",
       "      <td>2</td>\n",
       "    </tr>\n",
       "    <tr>\n",
       "      <td>2</td>\n",
       "      <td>sex</td>\n",
       "      <td>1</td>\n",
       "      <td>1</td>\n",
       "      <td>1</td>\n",
       "    </tr>\n",
       "    <tr>\n",
       "      <td>3</td>\n",
       "      <td>age</td>\n",
       "      <td>1</td>\n",
       "      <td>3</td>\n",
       "      <td>0</td>\n",
       "    </tr>\n",
       "    <tr>\n",
       "      <td>4</td>\n",
       "      <td>address</td>\n",
       "      <td>2</td>\n",
       "      <td>0</td>\n",
       "      <td>0</td>\n",
       "    </tr>\n",
       "    <tr>\n",
       "      <td>5</td>\n",
       "      <td>famsize</td>\n",
       "      <td>2</td>\n",
       "      <td>0</td>\n",
       "      <td>2</td>\n",
       "    </tr>\n",
       "    <tr>\n",
       "      <td>6</td>\n",
       "      <td>Pstatus</td>\n",
       "      <td>4</td>\n",
       "      <td>1</td>\n",
       "      <td>1</td>\n",
       "    </tr>\n",
       "    <tr>\n",
       "      <td>7</td>\n",
       "      <td>Medu</td>\n",
       "      <td>2</td>\n",
       "      <td>1</td>\n",
       "      <td>0</td>\n",
       "    </tr>\n",
       "    <tr>\n",
       "      <td>8</td>\n",
       "      <td>Fedu</td>\n",
       "      <td>1</td>\n",
       "      <td>1</td>\n",
       "      <td>3</td>\n",
       "    </tr>\n",
       "    <tr>\n",
       "      <td>9</td>\n",
       "      <td>Mjob</td>\n",
       "      <td>3</td>\n",
       "      <td>2</td>\n",
       "      <td>1</td>\n",
       "    </tr>\n",
       "    <tr>\n",
       "      <td>10</td>\n",
       "      <td>Fjob</td>\n",
       "      <td>0</td>\n",
       "      <td>0</td>\n",
       "      <td>0</td>\n",
       "    </tr>\n",
       "    <tr>\n",
       "      <td>11</td>\n",
       "      <td>reason</td>\n",
       "      <td>1</td>\n",
       "      <td>1</td>\n",
       "      <td>2</td>\n",
       "    </tr>\n",
       "    <tr>\n",
       "      <td>12</td>\n",
       "      <td>guardian</td>\n",
       "      <td>1</td>\n",
       "      <td>1</td>\n",
       "      <td>2</td>\n",
       "    </tr>\n",
       "    <tr>\n",
       "      <td>13</td>\n",
       "      <td>traveltime</td>\n",
       "      <td>1</td>\n",
       "      <td>2</td>\n",
       "      <td>0</td>\n",
       "    </tr>\n",
       "    <tr>\n",
       "      <td>14</td>\n",
       "      <td>studytime</td>\n",
       "      <td>4</td>\n",
       "      <td>1</td>\n",
       "      <td>0</td>\n",
       "    </tr>\n",
       "    <tr>\n",
       "      <td>15</td>\n",
       "      <td>failures</td>\n",
       "      <td>2</td>\n",
       "      <td>3</td>\n",
       "      <td>0</td>\n",
       "    </tr>\n",
       "    <tr>\n",
       "      <td>16</td>\n",
       "      <td>schoolsup</td>\n",
       "      <td>3</td>\n",
       "      <td>3</td>\n",
       "      <td>2</td>\n",
       "    </tr>\n",
       "    <tr>\n",
       "      <td>17</td>\n",
       "      <td>famsup</td>\n",
       "      <td>2</td>\n",
       "      <td>1</td>\n",
       "      <td>2</td>\n",
       "    </tr>\n",
       "    <tr>\n",
       "      <td>18</td>\n",
       "      <td>paid</td>\n",
       "      <td>0</td>\n",
       "      <td>0</td>\n",
       "      <td>1</td>\n",
       "    </tr>\n",
       "    <tr>\n",
       "      <td>19</td>\n",
       "      <td>activities</td>\n",
       "      <td>3</td>\n",
       "      <td>1</td>\n",
       "      <td>1</td>\n",
       "    </tr>\n",
       "    <tr>\n",
       "      <td>20</td>\n",
       "      <td>nursery</td>\n",
       "      <td>2</td>\n",
       "      <td>3</td>\n",
       "      <td>1</td>\n",
       "    </tr>\n",
       "    <tr>\n",
       "      <td>21</td>\n",
       "      <td>higher</td>\n",
       "      <td>2</td>\n",
       "      <td>2</td>\n",
       "      <td>2</td>\n",
       "    </tr>\n",
       "    <tr>\n",
       "      <td>22</td>\n",
       "      <td>internet</td>\n",
       "      <td>0</td>\n",
       "      <td>1</td>\n",
       "      <td>2</td>\n",
       "    </tr>\n",
       "    <tr>\n",
       "      <td>23</td>\n",
       "      <td>romantic</td>\n",
       "      <td>1</td>\n",
       "      <td>0</td>\n",
       "      <td>1</td>\n",
       "    </tr>\n",
       "    <tr>\n",
       "      <td>24</td>\n",
       "      <td>famrel</td>\n",
       "      <td>2</td>\n",
       "      <td>2</td>\n",
       "      <td>1</td>\n",
       "    </tr>\n",
       "    <tr>\n",
       "      <td>25</td>\n",
       "      <td>freetime</td>\n",
       "      <td>0</td>\n",
       "      <td>1</td>\n",
       "      <td>1</td>\n",
       "    </tr>\n",
       "    <tr>\n",
       "      <td>26</td>\n",
       "      <td>goout</td>\n",
       "      <td>2</td>\n",
       "      <td>2</td>\n",
       "      <td>1</td>\n",
       "    </tr>\n",
       "    <tr>\n",
       "      <td>27</td>\n",
       "      <td>Dalc</td>\n",
       "      <td>2</td>\n",
       "      <td>1</td>\n",
       "      <td>0</td>\n",
       "    </tr>\n",
       "    <tr>\n",
       "      <td>28</td>\n",
       "      <td>Walc</td>\n",
       "      <td>2</td>\n",
       "      <td>3</td>\n",
       "      <td>0</td>\n",
       "    </tr>\n",
       "    <tr>\n",
       "      <td>29</td>\n",
       "      <td>health</td>\n",
       "      <td>3</td>\n",
       "      <td>0</td>\n",
       "      <td>1</td>\n",
       "    </tr>\n",
       "    <tr>\n",
       "      <td>30</td>\n",
       "      <td>absences</td>\n",
       "      <td>1</td>\n",
       "      <td>1</td>\n",
       "      <td>2</td>\n",
       "    </tr>\n",
       "    <tr>\n",
       "      <td>31</td>\n",
       "      <td>G1</td>\n",
       "      <td>0</td>\n",
       "      <td>3</td>\n",
       "      <td>1</td>\n",
       "    </tr>\n",
       "    <tr>\n",
       "      <td>32</td>\n",
       "      <td>G2</td>\n",
       "      <td>0</td>\n",
       "      <td>0</td>\n",
       "      <td>0</td>\n",
       "    </tr>\n",
       "    <tr>\n",
       "      <td>33</td>\n",
       "      <td>G3</td>\n",
       "      <td>0</td>\n",
       "      <td>3</td>\n",
       "      <td>0</td>\n",
       "    </tr>\n",
       "  </tbody>\n",
       "</table>\n",
       "</div>"
      ],
      "text/plain": [
       "       Columna  Cantidad sem validade  Cantidad nulidade  Cantidad zero\n",
       "0   Unnamed: 0                      0                  0              0\n",
       "1       school                      2                  1              2\n",
       "2          sex                      1                  1              1\n",
       "3          age                      1                  3              0\n",
       "4      address                      2                  0              0\n",
       "5      famsize                      2                  0              2\n",
       "6      Pstatus                      4                  1              1\n",
       "7         Medu                      2                  1              0\n",
       "8         Fedu                      1                  1              3\n",
       "9         Mjob                      3                  2              1\n",
       "10        Fjob                      0                  0              0\n",
       "11      reason                      1                  1              2\n",
       "12    guardian                      1                  1              2\n",
       "13  traveltime                      1                  2              0\n",
       "14   studytime                      4                  1              0\n",
       "15    failures                      2                  3              0\n",
       "16   schoolsup                      3                  3              2\n",
       "17      famsup                      2                  1              2\n",
       "18        paid                      0                  0              1\n",
       "19  activities                      3                  1              1\n",
       "20     nursery                      2                  3              1\n",
       "21      higher                      2                  2              2\n",
       "22    internet                      0                  1              2\n",
       "23    romantic                      1                  0              1\n",
       "24      famrel                      2                  2              1\n",
       "25    freetime                      0                  1              1\n",
       "26       goout                      2                  2              1\n",
       "27        Dalc                      2                  1              0\n",
       "28        Walc                      2                  3              0\n",
       "29      health                      3                  0              1\n",
       "30    absences                      1                  1              2\n",
       "31          G1                      0                  3              1\n",
       "32          G2                      0                  0              0\n",
       "33          G3                      0                  3              0"
      ]
     },
     "execution_count": 9,
     "metadata": {},
     "output_type": "execute_result"
    }
   ],
   "source": [
    "cant_perdidos_nombres(df1)"
   ]
  },
  {
   "cell_type": "code",
   "execution_count": 10,
   "metadata": {},
   "outputs": [],
   "source": [
    "df2 = conversor_perdidos(df1, ['nulidade', 'sem validade', 'zero'])"
   ]
  },
  {
   "cell_type": "code",
   "execution_count": 11,
   "metadata": {},
   "outputs": [
    {
     "data": {
      "text/html": [
       "<div>\n",
       "<style scoped>\n",
       "    .dataframe tbody tr th:only-of-type {\n",
       "        vertical-align: middle;\n",
       "    }\n",
       "\n",
       "    .dataframe tbody tr th {\n",
       "        vertical-align: top;\n",
       "    }\n",
       "\n",
       "    .dataframe thead th {\n",
       "        text-align: right;\n",
       "    }\n",
       "</style>\n",
       "<table border=\"1\" class=\"dataframe\">\n",
       "  <thead>\n",
       "    <tr style=\"text-align: right;\">\n",
       "      <th></th>\n",
       "      <th>Columna</th>\n",
       "      <th>Cantidad sem validade</th>\n",
       "      <th>Cantidad nulidade</th>\n",
       "      <th>Cantidad zero</th>\n",
       "    </tr>\n",
       "  </thead>\n",
       "  <tbody>\n",
       "    <tr>\n",
       "      <td>0</td>\n",
       "      <td>Unnamed: 0</td>\n",
       "      <td>0</td>\n",
       "      <td>0</td>\n",
       "      <td>0</td>\n",
       "    </tr>\n",
       "    <tr>\n",
       "      <td>1</td>\n",
       "      <td>school</td>\n",
       "      <td>0</td>\n",
       "      <td>0</td>\n",
       "      <td>0</td>\n",
       "    </tr>\n",
       "    <tr>\n",
       "      <td>2</td>\n",
       "      <td>sex</td>\n",
       "      <td>0</td>\n",
       "      <td>0</td>\n",
       "      <td>0</td>\n",
       "    </tr>\n",
       "    <tr>\n",
       "      <td>3</td>\n",
       "      <td>age</td>\n",
       "      <td>0</td>\n",
       "      <td>0</td>\n",
       "      <td>0</td>\n",
       "    </tr>\n",
       "    <tr>\n",
       "      <td>4</td>\n",
       "      <td>address</td>\n",
       "      <td>0</td>\n",
       "      <td>0</td>\n",
       "      <td>0</td>\n",
       "    </tr>\n",
       "    <tr>\n",
       "      <td>5</td>\n",
       "      <td>famsize</td>\n",
       "      <td>0</td>\n",
       "      <td>0</td>\n",
       "      <td>0</td>\n",
       "    </tr>\n",
       "    <tr>\n",
       "      <td>6</td>\n",
       "      <td>Pstatus</td>\n",
       "      <td>0</td>\n",
       "      <td>0</td>\n",
       "      <td>0</td>\n",
       "    </tr>\n",
       "    <tr>\n",
       "      <td>7</td>\n",
       "      <td>Medu</td>\n",
       "      <td>0</td>\n",
       "      <td>0</td>\n",
       "      <td>0</td>\n",
       "    </tr>\n",
       "    <tr>\n",
       "      <td>8</td>\n",
       "      <td>Fedu</td>\n",
       "      <td>0</td>\n",
       "      <td>0</td>\n",
       "      <td>0</td>\n",
       "    </tr>\n",
       "    <tr>\n",
       "      <td>9</td>\n",
       "      <td>Mjob</td>\n",
       "      <td>0</td>\n",
       "      <td>0</td>\n",
       "      <td>0</td>\n",
       "    </tr>\n",
       "    <tr>\n",
       "      <td>10</td>\n",
       "      <td>Fjob</td>\n",
       "      <td>0</td>\n",
       "      <td>0</td>\n",
       "      <td>0</td>\n",
       "    </tr>\n",
       "    <tr>\n",
       "      <td>11</td>\n",
       "      <td>reason</td>\n",
       "      <td>0</td>\n",
       "      <td>0</td>\n",
       "      <td>0</td>\n",
       "    </tr>\n",
       "    <tr>\n",
       "      <td>12</td>\n",
       "      <td>guardian</td>\n",
       "      <td>0</td>\n",
       "      <td>0</td>\n",
       "      <td>0</td>\n",
       "    </tr>\n",
       "    <tr>\n",
       "      <td>13</td>\n",
       "      <td>traveltime</td>\n",
       "      <td>0</td>\n",
       "      <td>0</td>\n",
       "      <td>0</td>\n",
       "    </tr>\n",
       "    <tr>\n",
       "      <td>14</td>\n",
       "      <td>studytime</td>\n",
       "      <td>0</td>\n",
       "      <td>0</td>\n",
       "      <td>0</td>\n",
       "    </tr>\n",
       "    <tr>\n",
       "      <td>15</td>\n",
       "      <td>failures</td>\n",
       "      <td>0</td>\n",
       "      <td>0</td>\n",
       "      <td>0</td>\n",
       "    </tr>\n",
       "    <tr>\n",
       "      <td>16</td>\n",
       "      <td>schoolsup</td>\n",
       "      <td>0</td>\n",
       "      <td>0</td>\n",
       "      <td>0</td>\n",
       "    </tr>\n",
       "    <tr>\n",
       "      <td>17</td>\n",
       "      <td>famsup</td>\n",
       "      <td>0</td>\n",
       "      <td>0</td>\n",
       "      <td>0</td>\n",
       "    </tr>\n",
       "    <tr>\n",
       "      <td>18</td>\n",
       "      <td>paid</td>\n",
       "      <td>0</td>\n",
       "      <td>0</td>\n",
       "      <td>0</td>\n",
       "    </tr>\n",
       "    <tr>\n",
       "      <td>19</td>\n",
       "      <td>activities</td>\n",
       "      <td>0</td>\n",
       "      <td>0</td>\n",
       "      <td>0</td>\n",
       "    </tr>\n",
       "    <tr>\n",
       "      <td>20</td>\n",
       "      <td>nursery</td>\n",
       "      <td>0</td>\n",
       "      <td>0</td>\n",
       "      <td>0</td>\n",
       "    </tr>\n",
       "    <tr>\n",
       "      <td>21</td>\n",
       "      <td>higher</td>\n",
       "      <td>0</td>\n",
       "      <td>0</td>\n",
       "      <td>0</td>\n",
       "    </tr>\n",
       "    <tr>\n",
       "      <td>22</td>\n",
       "      <td>internet</td>\n",
       "      <td>0</td>\n",
       "      <td>0</td>\n",
       "      <td>0</td>\n",
       "    </tr>\n",
       "    <tr>\n",
       "      <td>23</td>\n",
       "      <td>romantic</td>\n",
       "      <td>0</td>\n",
       "      <td>0</td>\n",
       "      <td>0</td>\n",
       "    </tr>\n",
       "    <tr>\n",
       "      <td>24</td>\n",
       "      <td>famrel</td>\n",
       "      <td>0</td>\n",
       "      <td>0</td>\n",
       "      <td>0</td>\n",
       "    </tr>\n",
       "    <tr>\n",
       "      <td>25</td>\n",
       "      <td>freetime</td>\n",
       "      <td>0</td>\n",
       "      <td>0</td>\n",
       "      <td>0</td>\n",
       "    </tr>\n",
       "    <tr>\n",
       "      <td>26</td>\n",
       "      <td>goout</td>\n",
       "      <td>0</td>\n",
       "      <td>0</td>\n",
       "      <td>0</td>\n",
       "    </tr>\n",
       "    <tr>\n",
       "      <td>27</td>\n",
       "      <td>Dalc</td>\n",
       "      <td>0</td>\n",
       "      <td>0</td>\n",
       "      <td>0</td>\n",
       "    </tr>\n",
       "    <tr>\n",
       "      <td>28</td>\n",
       "      <td>Walc</td>\n",
       "      <td>0</td>\n",
       "      <td>0</td>\n",
       "      <td>0</td>\n",
       "    </tr>\n",
       "    <tr>\n",
       "      <td>29</td>\n",
       "      <td>health</td>\n",
       "      <td>0</td>\n",
       "      <td>0</td>\n",
       "      <td>0</td>\n",
       "    </tr>\n",
       "    <tr>\n",
       "      <td>30</td>\n",
       "      <td>absences</td>\n",
       "      <td>0</td>\n",
       "      <td>0</td>\n",
       "      <td>0</td>\n",
       "    </tr>\n",
       "    <tr>\n",
       "      <td>31</td>\n",
       "      <td>G1</td>\n",
       "      <td>0</td>\n",
       "      <td>0</td>\n",
       "      <td>0</td>\n",
       "    </tr>\n",
       "    <tr>\n",
       "      <td>32</td>\n",
       "      <td>G2</td>\n",
       "      <td>0</td>\n",
       "      <td>0</td>\n",
       "      <td>0</td>\n",
       "    </tr>\n",
       "    <tr>\n",
       "      <td>33</td>\n",
       "      <td>G3</td>\n",
       "      <td>0</td>\n",
       "      <td>0</td>\n",
       "      <td>0</td>\n",
       "    </tr>\n",
       "  </tbody>\n",
       "</table>\n",
       "</div>"
      ],
      "text/plain": [
       "       Columna  Cantidad sem validade  Cantidad nulidade  Cantidad zero\n",
       "0   Unnamed: 0                      0                  0              0\n",
       "1       school                      0                  0              0\n",
       "2          sex                      0                  0              0\n",
       "3          age                      0                  0              0\n",
       "4      address                      0                  0              0\n",
       "5      famsize                      0                  0              0\n",
       "6      Pstatus                      0                  0              0\n",
       "7         Medu                      0                  0              0\n",
       "8         Fedu                      0                  0              0\n",
       "9         Mjob                      0                  0              0\n",
       "10        Fjob                      0                  0              0\n",
       "11      reason                      0                  0              0\n",
       "12    guardian                      0                  0              0\n",
       "13  traveltime                      0                  0              0\n",
       "14   studytime                      0                  0              0\n",
       "15    failures                      0                  0              0\n",
       "16   schoolsup                      0                  0              0\n",
       "17      famsup                      0                  0              0\n",
       "18        paid                      0                  0              0\n",
       "19  activities                      0                  0              0\n",
       "20     nursery                      0                  0              0\n",
       "21      higher                      0                  0              0\n",
       "22    internet                      0                  0              0\n",
       "23    romantic                      0                  0              0\n",
       "24      famrel                      0                  0              0\n",
       "25    freetime                      0                  0              0\n",
       "26       goout                      0                  0              0\n",
       "27        Dalc                      0                  0              0\n",
       "28        Walc                      0                  0              0\n",
       "29      health                      0                  0              0\n",
       "30    absences                      0                  0              0\n",
       "31          G1                      0                  0              0\n",
       "32          G2                      0                  0              0\n",
       "33          G3                      0                  0              0"
      ]
     },
     "execution_count": 11,
     "metadata": {},
     "output_type": "execute_result"
    }
   ],
   "source": [
    "cant_perdidos_nombres(df2)"
   ]
  },
  {
   "cell_type": "code",
   "execution_count": 12,
   "metadata": {},
   "outputs": [
    {
     "data": {
      "text/plain": [
       "<matplotlib.axes._subplots.AxesSubplot at 0x1ec8b845c08>"
      ]
     },
     "execution_count": 12,
     "metadata": {},
     "output_type": "execute_result"
    },
    {
     "data": {
      "image/png": "[encoded data removed]",
      "text/plain": [
       "<Figure size 1800x720 with 2 Axes>"
      ]
     },
     "metadata": {
      "needs_background": "light"
     },
     "output_type": "display_data"
    }
   ],
   "source": [
    "msno.matrix(df2)"
   ]
  },
  {
   "cell_type": "code",
   "execution_count": 13,
   "metadata": {},
   "outputs": [
    {
     "data": {
      "text/html": [
       "<div>\n",
       "<style scoped>\n",
       "    .dataframe tbody tr th:only-of-type {\n",
       "        vertical-align: middle;\n",
       "    }\n",
       "\n",
       "    .dataframe tbody tr th {\n",
       "        vertical-align: top;\n",
       "    }\n",
       "\n",
       "    .dataframe thead th {\n",
       "        text-align: right;\n",
       "    }\n",
       "</style>\n",
       "<table border=\"1\" class=\"dataframe\">\n",
       "  <thead>\n",
       "    <tr style=\"text-align: right;\">\n",
       "      <th></th>\n",
       "      <th>Variable</th>\n",
       "      <th>Cantidad de NaN</th>\n",
       "    </tr>\n",
       "  </thead>\n",
       "  <tbody>\n",
       "    <tr>\n",
       "      <td>0</td>\n",
       "      <td>Unnamed: 0</td>\n",
       "      <td>0</td>\n",
       "    </tr>\n",
       "    <tr>\n",
       "      <td>1</td>\n",
       "      <td>school</td>\n",
       "      <td>5</td>\n",
       "    </tr>\n",
       "    <tr>\n",
       "      <td>2</td>\n",
       "      <td>sex</td>\n",
       "      <td>3</td>\n",
       "    </tr>\n",
       "    <tr>\n",
       "      <td>3</td>\n",
       "      <td>age</td>\n",
       "      <td>4</td>\n",
       "    </tr>\n",
       "    <tr>\n",
       "      <td>4</td>\n",
       "      <td>address</td>\n",
       "      <td>2</td>\n",
       "    </tr>\n",
       "    <tr>\n",
       "      <td>5</td>\n",
       "      <td>famsize</td>\n",
       "      <td>4</td>\n",
       "    </tr>\n",
       "    <tr>\n",
       "      <td>6</td>\n",
       "      <td>Pstatus</td>\n",
       "      <td>6</td>\n",
       "    </tr>\n",
       "    <tr>\n",
       "      <td>7</td>\n",
       "      <td>Medu</td>\n",
       "      <td>3</td>\n",
       "    </tr>\n",
       "    <tr>\n",
       "      <td>8</td>\n",
       "      <td>Fedu</td>\n",
       "      <td>5</td>\n",
       "    </tr>\n",
       "    <tr>\n",
       "      <td>9</td>\n",
       "      <td>Mjob</td>\n",
       "      <td>6</td>\n",
       "    </tr>\n",
       "    <tr>\n",
       "      <td>10</td>\n",
       "      <td>Fjob</td>\n",
       "      <td>0</td>\n",
       "    </tr>\n",
       "    <tr>\n",
       "      <td>11</td>\n",
       "      <td>reason</td>\n",
       "      <td>4</td>\n",
       "    </tr>\n",
       "    <tr>\n",
       "      <td>12</td>\n",
       "      <td>guardian</td>\n",
       "      <td>4</td>\n",
       "    </tr>\n",
       "    <tr>\n",
       "      <td>13</td>\n",
       "      <td>traveltime</td>\n",
       "      <td>3</td>\n",
       "    </tr>\n",
       "    <tr>\n",
       "      <td>14</td>\n",
       "      <td>studytime</td>\n",
       "      <td>5</td>\n",
       "    </tr>\n",
       "    <tr>\n",
       "      <td>15</td>\n",
       "      <td>failures</td>\n",
       "      <td>5</td>\n",
       "    </tr>\n",
       "    <tr>\n",
       "      <td>16</td>\n",
       "      <td>schoolsup</td>\n",
       "      <td>8</td>\n",
       "    </tr>\n",
       "    <tr>\n",
       "      <td>17</td>\n",
       "      <td>famsup</td>\n",
       "      <td>5</td>\n",
       "    </tr>\n",
       "    <tr>\n",
       "      <td>18</td>\n",
       "      <td>paid</td>\n",
       "      <td>1</td>\n",
       "    </tr>\n",
       "    <tr>\n",
       "      <td>19</td>\n",
       "      <td>activities</td>\n",
       "      <td>5</td>\n",
       "    </tr>\n",
       "    <tr>\n",
       "      <td>20</td>\n",
       "      <td>nursery</td>\n",
       "      <td>6</td>\n",
       "    </tr>\n",
       "    <tr>\n",
       "      <td>21</td>\n",
       "      <td>higher</td>\n",
       "      <td>6</td>\n",
       "    </tr>\n",
       "    <tr>\n",
       "      <td>22</td>\n",
       "      <td>internet</td>\n",
       "      <td>3</td>\n",
       "    </tr>\n",
       "    <tr>\n",
       "      <td>23</td>\n",
       "      <td>romantic</td>\n",
       "      <td>2</td>\n",
       "    </tr>\n",
       "    <tr>\n",
       "      <td>24</td>\n",
       "      <td>famrel</td>\n",
       "      <td>5</td>\n",
       "    </tr>\n",
       "    <tr>\n",
       "      <td>25</td>\n",
       "      <td>freetime</td>\n",
       "      <td>2</td>\n",
       "    </tr>\n",
       "    <tr>\n",
       "      <td>26</td>\n",
       "      <td>goout</td>\n",
       "      <td>5</td>\n",
       "    </tr>\n",
       "    <tr>\n",
       "      <td>27</td>\n",
       "      <td>Dalc</td>\n",
       "      <td>3</td>\n",
       "    </tr>\n",
       "    <tr>\n",
       "      <td>28</td>\n",
       "      <td>Walc</td>\n",
       "      <td>5</td>\n",
       "    </tr>\n",
       "    <tr>\n",
       "      <td>29</td>\n",
       "      <td>health</td>\n",
       "      <td>4</td>\n",
       "    </tr>\n",
       "    <tr>\n",
       "      <td>30</td>\n",
       "      <td>absences</td>\n",
       "      <td>4</td>\n",
       "    </tr>\n",
       "    <tr>\n",
       "      <td>31</td>\n",
       "      <td>G1</td>\n",
       "      <td>4</td>\n",
       "    </tr>\n",
       "    <tr>\n",
       "      <td>32</td>\n",
       "      <td>G2</td>\n",
       "      <td>0</td>\n",
       "    </tr>\n",
       "    <tr>\n",
       "      <td>33</td>\n",
       "      <td>G3</td>\n",
       "      <td>3</td>\n",
       "    </tr>\n",
       "  </tbody>\n",
       "</table>\n",
       "</div>"
      ],
      "text/plain": [
       "      Variable  Cantidad de NaN\n",
       "0   Unnamed: 0                0\n",
       "1       school                5\n",
       "2          sex                3\n",
       "3          age                4\n",
       "4      address                2\n",
       "5      famsize                4\n",
       "6      Pstatus                6\n",
       "7         Medu                3\n",
       "8         Fedu                5\n",
       "9         Mjob                6\n",
       "10        Fjob                0\n",
       "11      reason                4\n",
       "12    guardian                4\n",
       "13  traveltime                3\n",
       "14   studytime                5\n",
       "15    failures                5\n",
       "16   schoolsup                8\n",
       "17      famsup                5\n",
       "18        paid                1\n",
       "19  activities                5\n",
       "20     nursery                6\n",
       "21      higher                6\n",
       "22    internet                3\n",
       "23    romantic                2\n",
       "24      famrel                5\n",
       "25    freetime                2\n",
       "26       goout                5\n",
       "27        Dalc                3\n",
       "28        Walc                5\n",
       "29      health                4\n",
       "30    absences                4\n",
       "31          G1                4\n",
       "32          G2                0\n",
       "33          G3                3"
      ]
     },
     "execution_count": 13,
     "metadata": {},
     "output_type": "execute_result"
    }
   ],
   "source": [
    "cant_nan(df2)"
   ]
  },
  {
   "cell_type": "code",
   "execution_count": 14,
   "metadata": {},
   "outputs": [
    {
     "data": {
      "text/html": [
       "<div>\n",
       "<style scoped>\n",
       "    .dataframe tbody tr th:only-of-type {\n",
       "        vertical-align: middle;\n",
       "    }\n",
       "\n",
       "    .dataframe tbody tr th {\n",
       "        vertical-align: top;\n",
       "    }\n",
       "\n",
       "    .dataframe thead th {\n",
       "        text-align: right;\n",
       "    }\n",
       "</style>\n",
       "<table border=\"1\" class=\"dataframe\">\n",
       "  <thead>\n",
       "    <tr style=\"text-align: right;\">\n",
       "      <th></th>\n",
       "      <th>Unnamed: 0</th>\n",
       "      <th>school</th>\n",
       "      <th>sex</th>\n",
       "      <th>age</th>\n",
       "      <th>address</th>\n",
       "      <th>famsize</th>\n",
       "      <th>Pstatus</th>\n",
       "      <th>Medu</th>\n",
       "      <th>Fedu</th>\n",
       "      <th>Mjob</th>\n",
       "      <th>...</th>\n",
       "      <th>famrel</th>\n",
       "      <th>freetime</th>\n",
       "      <th>goout</th>\n",
       "      <th>Dalc</th>\n",
       "      <th>Walc</th>\n",
       "      <th>health</th>\n",
       "      <th>absences</th>\n",
       "      <th>G1</th>\n",
       "      <th>G2</th>\n",
       "      <th>G3</th>\n",
       "    </tr>\n",
       "  </thead>\n",
       "  <tbody>\n",
       "    <tr>\n",
       "      <td>203</td>\n",
       "      <td>203</td>\n",
       "      <td>GP</td>\n",
       "      <td>F</td>\n",
       "      <td>\"17\"</td>\n",
       "      <td>R</td>\n",
       "      <td>GT3</td>\n",
       "      <td>T</td>\n",
       "      <td>2</td>\n",
       "      <td>2</td>\n",
       "      <td>other</td>\n",
       "      <td>...</td>\n",
       "      <td>5</td>\n",
       "      <td>3</td>\n",
       "      <td>\"2\"</td>\n",
       "      <td>1</td>\n",
       "      <td>2</td>\n",
       "      <td>\"3\"</td>\n",
       "      <td>18</td>\n",
       "      <td>7</td>\n",
       "      <td>6</td>\n",
       "      <td>6</td>\n",
       "    </tr>\n",
       "  </tbody>\n",
       "</table>\n",
       "<p>1 rows × 34 columns</p>\n",
       "</div>"
      ],
      "text/plain": [
       "     Unnamed: 0 school sex   age address famsize Pstatus Medu Fedu   Mjob  \\\n",
       "203         203     GP   F  \"17\"       R     GT3       T    2    2  other   \n",
       "\n",
       "     ... famrel freetime goout Dalc Walc health absences G1 G2 G3  \n",
       "203  ...      5        3   \"2\"    1    2    \"3\"       18  7  6  6  \n",
       "\n",
       "[1 rows x 34 columns]"
      ]
     },
     "execution_count": 14,
     "metadata": {},
     "output_type": "execute_result"
    }
   ],
   "source": [
    "df2.sample()"
   ]
  },
  {
   "cell_type": "markdown",
   "metadata": {},
   "source": [
    "#### 4) Detección de ?, reemplazo a NaN y obtención del Dataframe de trabajo"
   ]
  },
  {
   "cell_type": "code",
   "execution_count": 15,
   "metadata": {},
   "outputs": [],
   "source": [
    "df2['age_conv'] = conversor_num(df2, 'age')\n",
    "df2['goout_conv'] = conversor_num(df2, 'goout')\n",
    "df2['health_conv'] = conversor_num(df2, 'health')\n",
    "df2['G1_conv'] = conversor_int(df2, 'G1')\n",
    "df2['G3_conv'] = conversor_int(df2, 'G3')"
   ]
  },
  {
   "cell_type": "code",
   "execution_count": 16,
   "metadata": {},
   "outputs": [
    {
     "data": {
      "text/plain": [
       "Unnamed: 0       int64\n",
       "school          object\n",
       "sex             object\n",
       "age             object\n",
       "address         object\n",
       "famsize         object\n",
       "Pstatus         object\n",
       "Medu            object\n",
       "Fedu            object\n",
       "Mjob            object\n",
       "Fjob            object\n",
       "reason          object\n",
       "guardian        object\n",
       "traveltime      object\n",
       "studytime       object\n",
       "failures        object\n",
       "schoolsup       object\n",
       "famsup          object\n",
       "paid            object\n",
       "activities      object\n",
       "nursery         object\n",
       "higher          object\n",
       "internet        object\n",
       "romantic        object\n",
       "famrel          object\n",
       "freetime        object\n",
       "goout           object\n",
       "Dalc            object\n",
       "Walc            object\n",
       "health          object\n",
       "absences        object\n",
       "G1              object\n",
       "G2               int64\n",
       "G3              object\n",
       "age_conv       float64\n",
       "goout_conv     float64\n",
       "health_conv    float64\n",
       "G1_conv        float64\n",
       "G3_conv        float64\n",
       "dtype: object"
      ]
     },
     "execution_count": 16,
     "metadata": {},
     "output_type": "execute_result"
    }
   ],
   "source": [
    "df2.dtypes"
   ]
  },
  {
   "cell_type": "code",
   "execution_count": 17,
   "metadata": {},
   "outputs": [],
   "source": [
    "df_final = df2.loc[:,['school', 'sex', 'address', 'famsize', 'Pstatus', 'Medu', 'Fedu', 'Mjob', 'Fjob', 'reason', 'guardian',  'traveltime', 'studytime', 'failures', 'schoolsup', 'famsup', 'paid', 'activities', 'nursery', 'higher', 'internet', 'romantic', 'famrel', 'freetime', 'Dalc', 'Walc', 'absences', 'age_conv', 'goout_conv', 'health_conv', 'G1_conv', 'G2', 'G3_conv']]"
   ]
  },
  {
   "cell_type": "code",
   "execution_count": 18,
   "metadata": {},
   "outputs": [
    {
     "data": {
      "text/html": [
       "<div>\n",
       "<style scoped>\n",
       "    .dataframe tbody tr th:only-of-type {\n",
       "        vertical-align: middle;\n",
       "    }\n",
       "\n",
       "    .dataframe tbody tr th {\n",
       "        vertical-align: top;\n",
       "    }\n",
       "\n",
       "    .dataframe thead th {\n",
       "        text-align: right;\n",
       "    }\n",
       "</style>\n",
       "<table border=\"1\" class=\"dataframe\">\n",
       "  <thead>\n",
       "    <tr style=\"text-align: right;\">\n",
       "      <th></th>\n",
       "      <th>school</th>\n",
       "      <th>sex</th>\n",
       "      <th>address</th>\n",
       "      <th>famsize</th>\n",
       "      <th>Pstatus</th>\n",
       "      <th>Medu</th>\n",
       "      <th>Fedu</th>\n",
       "      <th>Mjob</th>\n",
       "      <th>Fjob</th>\n",
       "      <th>reason</th>\n",
       "      <th>...</th>\n",
       "      <th>freetime</th>\n",
       "      <th>Dalc</th>\n",
       "      <th>Walc</th>\n",
       "      <th>absences</th>\n",
       "      <th>age_conv</th>\n",
       "      <th>goout_conv</th>\n",
       "      <th>health_conv</th>\n",
       "      <th>G1_conv</th>\n",
       "      <th>G2</th>\n",
       "      <th>G3_conv</th>\n",
       "    </tr>\n",
       "  </thead>\n",
       "  <tbody>\n",
       "    <tr>\n",
       "      <td>29</td>\n",
       "      <td>NaN</td>\n",
       "      <td>M</td>\n",
       "      <td>U</td>\n",
       "      <td>GT3</td>\n",
       "      <td>T</td>\n",
       "      <td>4</td>\n",
       "      <td>4</td>\n",
       "      <td>teacher</td>\n",
       "      <td>teacher</td>\n",
       "      <td>home</td>\n",
       "      <td>...</td>\n",
       "      <td>4</td>\n",
       "      <td>5</td>\n",
       "      <td>5</td>\n",
       "      <td>16</td>\n",
       "      <td>16.0</td>\n",
       "      <td>5.0</td>\n",
       "      <td>5.0</td>\n",
       "      <td>10.0</td>\n",
       "      <td>12</td>\n",
       "      <td>11.0</td>\n",
       "    </tr>\n",
       "  </tbody>\n",
       "</table>\n",
       "<p>1 rows × 33 columns</p>\n",
       "</div>"
      ],
      "text/plain": [
       "   school sex address famsize Pstatus Medu Fedu     Mjob     Fjob reason  ...  \\\n",
       "29    NaN   M       U     GT3       T    4    4  teacher  teacher   home  ...   \n",
       "\n",
       "   freetime Dalc Walc absences age_conv goout_conv health_conv G1_conv  G2  \\\n",
       "29        4    5    5       16     16.0        5.0         5.0    10.0  12   \n",
       "\n",
       "   G3_conv  \n",
       "29    11.0  \n",
       "\n",
       "[1 rows x 33 columns]"
      ]
     },
     "execution_count": 18,
     "metadata": {},
     "output_type": "execute_result"
    }
   ],
   "source": [
    "df_final.sample()"
   ]
  },
  {
   "cell_type": "markdown",
   "metadata": {},
   "source": [
    "# Hito 2"
   ]
  },
  {
   "cell_type": "markdown",
   "metadata": {},
   "source": [
    "Completar el punto de Preliminares, así como Aspectos computacionales.\n",
    "\n",
    "Completar el punto de Descripción.\n",
    "* Elementos a considerar en éste hito:\n",
    "* La inspección visual del vector objetivo. (2 puntos)\n",
    "* La inspección visual de las variables. (2 puntos)\n",
    "* La inspección de datos perdidos en las variables. (1 punto)\n",
    "* De ser necesario, se puede iterar en el proceso de preprocesamiento y recodificación de las variables.\n",
    "\n",
    "Entregable: Dos notebooks (uno por enunciado) con todos los puntos detallados e interpretados. De ser necesario, un archivo con extensión .py con todas las funciones implementadas."
   ]
  },
  {
   "cell_type": "markdown",
   "metadata": {},
   "source": [
    "#### Inspección visual del vector 'G3'"
   ]
  },
  {
   "cell_type": "code",
   "execution_count": 19,
   "metadata": {},
   "outputs": [
    {
     "name": "stderr",
     "output_type": "stream",
     "text": [
      "No handles with labels found to put in legend.\n",
      "No handles with labels found to put in legend.\n",
      "No handles with labels found to put in legend.\n"
     ]
    },
    {
     "data": {
      "image/png": "[encoded data removed]",
      "text/plain": [
       "<Figure size 432x288 with 3 Axes>"
      ]
     },
     "metadata": {
      "needs_background": "light"
     },
     "output_type": "display_data"
    }
   ],
   "source": [
    "vector = ['G1_conv', 'G2', 'G3_conv']\n",
    "notas(df_final, vector)"
   ]
  },
  {
   "cell_type": "markdown",
   "metadata": {},
   "source": [
    "#### Interpretación\n",
    "De las 395 estudiantes muestreados, el 26% aprox. obtiene puntajes entre 10 y 11 puntos (valores más frecuentes en la muestra). Así mismo, el 67% de los estudiantes posee puntajes mayores o iguales a 10."
   ]
  },
  {
   "cell_type": "markdown",
   "metadata": {},
   "source": [
    "### Inspección visual de las variables\n",
    "Para la inspección visual, se aplicó una función (estadisticos_continuos), la cual entrega los datos de media, moda y desviación estándar de aquellas variables de tipo contínuo (para más información, chequear aspectos computacionales de la función)"
   ]
  },
  {
   "cell_type": "code",
   "execution_count": 20,
   "metadata": {},
   "outputs": [
    {
     "data": {
      "text/html": [
       "<div>\n",
       "<style scoped>\n",
       "    .dataframe tbody tr th:only-of-type {\n",
       "        vertical-align: middle;\n",
       "    }\n",
       "\n",
       "    .dataframe tbody tr th {\n",
       "        vertical-align: top;\n",
       "    }\n",
       "\n",
       "    .dataframe thead th {\n",
       "        text-align: right;\n",
       "    }\n",
       "</style>\n",
       "<table border=\"1\" class=\"dataframe\">\n",
       "  <thead>\n",
       "    <tr style=\"text-align: right;\">\n",
       "      <th></th>\n",
       "      <th>Media</th>\n",
       "      <th>Mediana</th>\n",
       "      <th>Desviación Estándar</th>\n",
       "    </tr>\n",
       "  </thead>\n",
       "  <tbody>\n",
       "    <tr>\n",
       "      <td>age_conv</td>\n",
       "      <td>16.698210</td>\n",
       "      <td>17.0</td>\n",
       "      <td>1.279412</td>\n",
       "    </tr>\n",
       "    <tr>\n",
       "      <td>goout_conv</td>\n",
       "      <td>3.102564</td>\n",
       "      <td>3.0</td>\n",
       "      <td>1.117629</td>\n",
       "    </tr>\n",
       "    <tr>\n",
       "      <td>health_conv</td>\n",
       "      <td>3.570332</td>\n",
       "      <td>4.0</td>\n",
       "      <td>1.377303</td>\n",
       "    </tr>\n",
       "    <tr>\n",
       "      <td>G1_conv</td>\n",
       "      <td>10.933504</td>\n",
       "      <td>11.0</td>\n",
       "      <td>3.320593</td>\n",
       "    </tr>\n",
       "    <tr>\n",
       "      <td>G2</td>\n",
       "      <td>10.713924</td>\n",
       "      <td>11.0</td>\n",
       "      <td>3.761505</td>\n",
       "    </tr>\n",
       "    <tr>\n",
       "      <td>G3_conv</td>\n",
       "      <td>10.446429</td>\n",
       "      <td>11.0</td>\n",
       "      <td>4.568007</td>\n",
       "    </tr>\n",
       "  </tbody>\n",
       "</table>\n",
       "</div>"
      ],
      "text/plain": [
       "                 Media  Mediana  Desviación Estándar\n",
       "age_conv     16.698210     17.0             1.279412\n",
       "goout_conv    3.102564      3.0             1.117629\n",
       "health_conv   3.570332      4.0             1.377303\n",
       "G1_conv      10.933504     11.0             3.320593\n",
       "G2           10.713924     11.0             3.761505\n",
       "G3_conv      10.446429     11.0             4.568007"
      ]
     },
     "execution_count": 20,
     "metadata": {},
     "output_type": "execute_result"
    }
   ],
   "source": [
    "estadisticos_continuos(df_final)"
   ]
  },
  {
   "cell_type": "code",
   "execution_count": 21,
   "metadata": {},
   "outputs": [
    {
     "data": {
      "image/png": "[encoded data removed]",
      "text/plain": [
       "<Figure size 432x288 with 6 Axes>"
      ]
     },
     "metadata": {
      "needs_background": "light"
     },
     "output_type": "display_data"
    }
   ],
   "source": [
    "grafestad_continuos(df_final)"
   ]
  },
  {
   "cell_type": "code",
   "execution_count": 22,
   "metadata": {},
   "outputs": [
    {
     "data": {
      "image/png": "[encoded data removed]",
      "text/plain": [
       "<Figure size 720x2880 with 27 Axes>"
      ]
     },
     "metadata": {
      "needs_background": "light"
     },
     "output_type": "display_data"
    }
   ],
   "source": [
    "plt.figure(figsize=(10,40))\n",
    "grafestad_discretos(df_final, 11, 5)"
   ]
  },
  {
   "cell_type": "markdown",
   "metadata": {},
   "source": [
    "#### Interpretación:\n",
    "* La muestra está compuesta por hombres y mujeres de 17 años, adolescentes, los que mayoritariamente presentan un buen estado de salud.\n",
    "* Principalmente, los estudiantes asisten al colegio Gabriel Pereira, el cual es escogido preferentemente por los cursos que posee y por la cercanía a los hogares, pudiendo llegar en menos de 15 min. Sus apoderados son principalmente sus madres.\n",
    "* Viven principalmente en la zona urbana con sus familias, de aprox. 3 personas y compuestas por ambos padres. Las relaciones al interior del núcleo familiar tienden a ser buenas.\n",
    "* En general, las madres tienden a cursar estudios superiores, las cuales se dedican laboralmente a ocupaciones diferentes a la enseñanza, servicios, salud o domiciliaria; mientras que los padres llegan hasta educación básica o media, desempeñándose en los mismos rubros que las madres.\n",
    "* Los estudiantes dedican cerca de 2 a 5 horas de estudio, lo cual se condice con un bajo nivel de reprobación académica y bajo apoyo académico de la institución y sus padres.\n",
    "* Los adolescentes tienden a realizar activiidades fuera del colegio, saliendo 3 veces por semana con sus amigos y tienden a consumir bajar cantidades de alcohol durante la semana. Solo algunos se encuentran en una relación romántica. Algunos dedican su tiempo a actividades pagadas y curriculares.\n",
    "* En los educacional, la mayor parte de los jóvenes asistió a una guardería infantil y tiene entre sus planes continuar con estudios superiores.\n",
    "* La mayor parte de ellos tiene acceso a internet.\n",
    "* El ausentismo escolar es muy bajo, con promedios de notas en los primeros semestres de 11 puntos. Estos puntajes tienden a bajar en los segundos semestres, los cuales son muy parecidos a sus calificaciones finales de año escolar."
   ]
  },
  {
   "cell_type": "markdown",
   "metadata": {},
   "source": [
    "#### Binarización previa"
   ]
  },
  {
   "cell_type": "code",
   "execution_count": 23,
   "metadata": {},
   "outputs": [],
   "source": [
    "df_final['school_bin'] = binarizador(df_final, 'school', 'GP', 0)\n",
    "df_final['sex_bin'] = binarizador(df_final, 'sex', 'F', 0)\n",
    "df_final['address_bin'] = binarizador(df_final, 'address', 'U', 0)\n",
    "df_final['famsize_bin'] = binarizador(df_final, 'famsize', 'GT3', 0)\n",
    "df_final['Pstatus_bin'] = binarizador(df_final, 'Pstatus', 'T', 0)\n",
    "df_final['Medu_bin'] = binarizador(df_final, 'Medu', '4', 0)\n",
    "df_final['Fedu_bin'] = binarizador(df_final, 'Fedu', '0', 1)\n",
    "df_final['Mjob_bin'] = binarizador(df_final, 'Mjob', 'other', 0)\n",
    "df_final['Fjob_bin'] = binarizador(df_final, 'Fjob', 'other', 0)\n",
    "df_final['reason_bin'] = binarizador(df_final, 'reason', 'course', 0)\n",
    "df_final['guardian_bin'] = binarizador(df_final, 'guardian', 'mother', 0)\n",
    "df_final['traveltime_bin'] = binarizador(df_final, 'traveltime', '1', 0)\n",
    "df_final['studytime_bin'] = binarizador(df_final, 'studytime', '2', 0)\n",
    "df_final['failures_bin'] = binarizador(df_final, 'failures', '0', 0)\n",
    "df_final['schoolsup_bin'] = binarizador(df_final, 'schoolsup', 'no', 0)\n",
    "df_final['famsup_bin'] = binarizador(df_final, 'famsup', 'yes', 0)\n",
    "df_final['paid_bin'] = binarizador(df_final, 'paid', 'no', 0)\n",
    "df_final['activities_bin'] = binarizador(df_final, 'activities', 'yes', 0)\n",
    "df_final['nursery_bin'] = binarizador(df_final, 'nursery', 'yes', 0)\n",
    "df_final['higher_bin'] = binarizador(df_final, 'higher', 'yes', 0)\n",
    "df_final['internet_bin'] = binarizador(df_final, 'internet', 'yes', 0)\n",
    "df_final['romantic_bin'] = binarizador(df_final, 'romantic', 'no', 0)\n",
    "df_final['famrel_bin'] = binarizador(df_final, 'famrel', '4', 0)\n",
    "df_final['freetime_bin'] = binarizador(df_final, 'freetime', '3', 0)\n",
    "df_final['Dalc_bin'] = binarizador(df_final, 'Dalc', '1', 0)\n",
    "df_final['Walc_bin'] = binarizador(df_final, 'Walc', '1', 0)\n",
    "df_final['absences_bin'] = binarizador(df_final, 'absences', '0', 0)\n",
    "df_final['G1_bin'] = binarizador(df_final, 'G1_conv', df_final['G1_conv'].mean(), 0, 'mayorig')\n",
    "df_final['G2_bin'] = binarizador(df_final, 'G2', df_final['G2'].mean(), 0, 'mayorig')\n",
    "df_final['G3_bin'] = binarizador(df_final, 'G3_conv', df_final['G3_conv'].mean(), 0, 'mayorig')\n",
    "df_final['goout_bin'] = binarizador(df_final, 'goout_conv', df_final['goout_conv'].mean(), 0, 'mayorig')\n",
    "df_final['age_bin'] = binarizador(df_final, 'age_conv', df_final['age_conv'].mean(), 0, 'mayorig')\n",
    "df_final['health_bin'] = binarizador(df_final, 'health_conv', df_final['health_conv'].mean(), 0, 'mayorig')"
   ]
  },
  {
   "cell_type": "markdown",
   "metadata": {},
   "source": [
    "# Hito 3"
   ]
  },
  {
   "cell_type": "markdown",
   "metadata": {},
   "source": [
    "Completar el punto de Modelación descriptiva.\n",
    "Elementos a considerar en éste hito:\n",
    "* La modelación mediante regresión de ambos problemas. (2 puntos)\n",
    "* La interpretación de los principales regresores en cada problema. (2 puntos)\n",
    "* La definición de las estrategias de Modelación predictiva. (1 punto)"
   ]
  },
  {
   "cell_type": "markdown",
   "metadata": {},
   "source": [
    "### Modelación"
   ]
  },
  {
   "cell_type": "markdown",
   "metadata": {},
   "source": [
    "#### Nota introductoria:\n",
    "Caracterizada la muestra, se procedió al modelamiento utilizando todos los atributos presentes. Para un correcto análisis, las notas de primer semestre (G1), segundo semestre(G2) y final (G3) fueron analizadas de manera independiente y relacionando los factores no académicos y ambientales."
   ]
  },
  {
   "cell_type": "code",
   "execution_count": 24,
   "metadata": {},
   "outputs": [],
   "source": [
    "df_trabajo = df_final.loc[:,['school_bin', 'sex_bin', 'address_bin', 'famsize_bin', 'Pstatus_bin', 'Medu_bin', 'Fedu_bin', 'Mjob_bin', 'Fjob_bin', 'reason_bin', 'guardian_bin',  'traveltime_bin', 'studytime_bin', 'failures_bin', 'schoolsup_bin', 'famsup_bin', 'paid_bin', 'activities_bin', 'nursery_bin', 'higher_bin', 'internet_bin', 'romantic_bin', 'famrel_bin', 'freetime_bin', 'Dalc_bin', 'Walc_bin', 'absences_bin', 'age_bin', 'goout_bin', 'health_bin', 'G1_bin', 'G2_bin', 'G3_bin']]"
   ]
  },
  {
   "cell_type": "code",
   "execution_count": 25,
   "metadata": {},
   "outputs": [
    {
     "name": "stdout",
     "output_type": "stream",
     "text": [
      "Optimization terminated successfully.\n",
      "         Current function value: 0.585954\n",
      "         Iterations 6\n"
     ]
    },
    {
     "data": {
      "text/html": [
       "<table class=\"simpletable\">\n",
       "<tr>\n",
       "         <td></td>           <th>coef</th>     <th>std err</th>      <th>z</th>      <th>P>|z|</th>  <th>[0.025</th>    <th>0.975]</th>  \n",
       "</tr>\n",
       "<tr>\n",
       "  <th>Intercept</th>      <td>    0.8857</td> <td>    0.592</td> <td>    1.495</td> <td> 0.135</td> <td>   -0.275</td> <td>    2.047</td>\n",
       "</tr>\n",
       "<tr>\n",
       "  <th>school_bin</th>     <td>    0.1695</td> <td>    0.391</td> <td>    0.433</td> <td> 0.665</td> <td>   -0.597</td> <td>    0.936</td>\n",
       "</tr>\n",
       "<tr>\n",
       "  <th>sex_bin</th>        <td>   -0.2993</td> <td>    0.248</td> <td>   -1.204</td> <td> 0.228</td> <td>   -0.786</td> <td>    0.188</td>\n",
       "</tr>\n",
       "<tr>\n",
       "  <th>address_bin</th>    <td>    0.0738</td> <td>    0.306</td> <td>    0.241</td> <td> 0.810</td> <td>   -0.527</td> <td>    0.674</td>\n",
       "</tr>\n",
       "<tr>\n",
       "  <th>famsize_bin</th>    <td>   -0.1559</td> <td>    0.263</td> <td>   -0.592</td> <td> 0.554</td> <td>   -0.672</td> <td>    0.360</td>\n",
       "</tr>\n",
       "<tr>\n",
       "  <th>Pstatus_bin</th>    <td>   -0.4769</td> <td>    0.375</td> <td>   -1.272</td> <td> 0.203</td> <td>   -1.212</td> <td>    0.258</td>\n",
       "</tr>\n",
       "<tr>\n",
       "  <th>Medu_bin</th>       <td>    0.2904</td> <td>    0.268</td> <td>    1.084</td> <td> 0.278</td> <td>   -0.234</td> <td>    0.815</td>\n",
       "</tr>\n",
       "<tr>\n",
       "  <th>Fedu_bin</th>       <td>    0.5030</td> <td>    1.502</td> <td>    0.335</td> <td> 0.738</td> <td>   -2.442</td> <td>    3.448</td>\n",
       "</tr>\n",
       "<tr>\n",
       "  <th>Mjob_bin</th>       <td>    0.0389</td> <td>    0.263</td> <td>    0.148</td> <td> 0.883</td> <td>   -0.477</td> <td>    0.555</td>\n",
       "</tr>\n",
       "<tr>\n",
       "  <th>Fjob_bin</th>       <td>   -0.3248</td> <td>    0.252</td> <td>   -1.287</td> <td> 0.198</td> <td>   -0.819</td> <td>    0.170</td>\n",
       "</tr>\n",
       "<tr>\n",
       "  <th>reason_bin</th>     <td>   -0.1011</td> <td>    0.245</td> <td>   -0.413</td> <td> 0.680</td> <td>   -0.581</td> <td>    0.379</td>\n",
       "</tr>\n",
       "<tr>\n",
       "  <th>guardian_bin</th>   <td>    0.0958</td> <td>    0.260</td> <td>    0.368</td> <td> 0.713</td> <td>   -0.414</td> <td>    0.606</td>\n",
       "</tr>\n",
       "<tr>\n",
       "  <th>traveltime_bin</th> <td>    0.3741</td> <td>    0.255</td> <td>    1.468</td> <td> 0.142</td> <td>   -0.125</td> <td>    0.874</td>\n",
       "</tr>\n",
       "<tr>\n",
       "  <th>studytime_bin</th>  <td>   -0.1001</td> <td>    0.236</td> <td>   -0.425</td> <td> 0.671</td> <td>   -0.562</td> <td>    0.362</td>\n",
       "</tr>\n",
       "<tr>\n",
       "  <th>failures_bin</th>   <td>    1.2919</td> <td>    0.312</td> <td>    4.144</td> <td> 0.000</td> <td>    0.681</td> <td>    1.903</td>\n",
       "</tr>\n",
       "<tr>\n",
       "  <th>schoolsup_bin</th>  <td>    0.8290</td> <td>    0.344</td> <td>    2.412</td> <td> 0.016</td> <td>    0.155</td> <td>    1.503</td>\n",
       "</tr>\n",
       "<tr>\n",
       "  <th>famsup_bin</th>     <td>   -0.2780</td> <td>    0.255</td> <td>   -1.089</td> <td> 0.276</td> <td>   -0.778</td> <td>    0.222</td>\n",
       "</tr>\n",
       "<tr>\n",
       "  <th>paid_bin</th>       <td>    0.0363</td> <td>    0.255</td> <td>    0.143</td> <td> 0.886</td> <td>   -0.463</td> <td>    0.535</td>\n",
       "</tr>\n",
       "<tr>\n",
       "  <th>activities_bin</th> <td>   -0.1890</td> <td>    0.240</td> <td>   -0.788</td> <td> 0.431</td> <td>   -0.659</td> <td>    0.281</td>\n",
       "</tr>\n",
       "<tr>\n",
       "  <th>nursery_bin</th>    <td>   -0.3911</td> <td>    0.287</td> <td>   -1.362</td> <td> 0.173</td> <td>   -0.954</td> <td>    0.172</td>\n",
       "</tr>\n",
       "<tr>\n",
       "  <th>higher_bin</th>     <td>    1.0072</td> <td>    0.540</td> <td>    1.865</td> <td> 0.062</td> <td>   -0.051</td> <td>    2.066</td>\n",
       "</tr>\n",
       "<tr>\n",
       "  <th>internet_bin</th>   <td>    0.4100</td> <td>    0.315</td> <td>    1.303</td> <td> 0.193</td> <td>   -0.207</td> <td>    1.027</td>\n",
       "</tr>\n",
       "<tr>\n",
       "  <th>romantic_bin</th>   <td>   -0.1437</td> <td>    0.255</td> <td>   -0.564</td> <td> 0.573</td> <td>   -0.643</td> <td>    0.356</td>\n",
       "</tr>\n",
       "<tr>\n",
       "  <th>famrel_bin</th>     <td>   -0.1040</td> <td>    0.232</td> <td>   -0.448</td> <td> 0.654</td> <td>   -0.559</td> <td>    0.351</td>\n",
       "</tr>\n",
       "<tr>\n",
       "  <th>freetime_bin</th>   <td>   -0.5498</td> <td>    0.244</td> <td>   -2.250</td> <td> 0.024</td> <td>   -1.029</td> <td>   -0.071</td>\n",
       "</tr>\n",
       "<tr>\n",
       "  <th>Dalc_bin</th>       <td>    0.2320</td> <td>    0.300</td> <td>    0.773</td> <td> 0.440</td> <td>   -0.356</td> <td>    0.820</td>\n",
       "</tr>\n",
       "<tr>\n",
       "  <th>Walc_bin</th>       <td>    0.2068</td> <td>    0.282</td> <td>    0.733</td> <td> 0.464</td> <td>   -0.346</td> <td>    0.760</td>\n",
       "</tr>\n",
       "<tr>\n",
       "  <th>absences_bin</th>   <td>   -0.5480</td> <td>    0.268</td> <td>   -2.047</td> <td> 0.041</td> <td>   -1.073</td> <td>   -0.023</td>\n",
       "</tr>\n",
       "<tr>\n",
       "  <th>age_bin</th>        <td>   -0.4508</td> <td>    0.261</td> <td>   -1.726</td> <td> 0.084</td> <td>   -0.963</td> <td>    0.061</td>\n",
       "</tr>\n",
       "<tr>\n",
       "  <th>goout_bin</th>      <td>   -0.6287</td> <td>    0.259</td> <td>   -2.424</td> <td> 0.015</td> <td>   -1.137</td> <td>   -0.120</td>\n",
       "</tr>\n",
       "<tr>\n",
       "  <th>health_bin</th>     <td>    0.1159</td> <td>    0.235</td> <td>    0.493</td> <td> 0.622</td> <td>   -0.345</td> <td>    0.576</td>\n",
       "</tr>\n",
       "</table>"
      ],
      "text/plain": [
       "<class 'statsmodels.iolib.table.SimpleTable'>"
      ]
     },
     "execution_count": 25,
     "metadata": {},
     "output_type": "execute_result"
    }
   ],
   "source": [
    "m1_logit_G3 = smf.logit('G3_bin ~ school_bin + sex_bin + address_bin + famsize_bin + Pstatus_bin + Medu_bin + Fedu_bin + Mjob_bin + Fjob_bin + reason_bin + guardian_bin + traveltime_bin + studytime_bin + failures_bin + schoolsup_bin + famsup_bin + paid_bin + activities_bin + nursery_bin + higher_bin + internet_bin + romantic_bin + famrel_bin + freetime_bin + Dalc_bin + Walc_bin + absences_bin + age_bin + goout_bin + health_bin', df_trabajo).fit()\n",
    "m1_logit_G3.summary().tables[1]"
   ]
  },
  {
   "cell_type": "code",
   "execution_count": 26,
   "metadata": {},
   "outputs": [
    {
     "name": "stdout",
     "output_type": "stream",
     "text": [
      "Warning: Maximum number of iterations has been exceeded.\n",
      "         Current function value: 0.566083\n",
      "         Iterations: 35\n"
     ]
    },
    {
     "data": {
      "text/html": [
       "<table class=\"simpletable\">\n",
       "<tr>\n",
       "         <td></td>           <th>coef</th>     <th>std err</th>      <th>z</th>      <th>P>|z|</th>  <th>[0.025</th>    <th>0.975]</th>  \n",
       "</tr>\n",
       "<tr>\n",
       "  <th>Intercept</th>      <td>    0.9624</td> <td>    0.602</td> <td>    1.600</td> <td> 0.110</td> <td>   -0.217</td> <td>    2.142</td>\n",
       "</tr>\n",
       "<tr>\n",
       "  <th>school_bin</th>     <td>   -0.2141</td> <td>    0.397</td> <td>   -0.540</td> <td> 0.589</td> <td>   -0.991</td> <td>    0.563</td>\n",
       "</tr>\n",
       "<tr>\n",
       "  <th>sex_bin</th>        <td>   -0.3975</td> <td>    0.252</td> <td>   -1.577</td> <td> 0.115</td> <td>   -0.892</td> <td>    0.097</td>\n",
       "</tr>\n",
       "<tr>\n",
       "  <th>address_bin</th>    <td>    0.1268</td> <td>    0.312</td> <td>    0.406</td> <td> 0.685</td> <td>   -0.485</td> <td>    0.739</td>\n",
       "</tr>\n",
       "<tr>\n",
       "  <th>famsize_bin</th>    <td>   -0.3267</td> <td>    0.269</td> <td>   -1.216</td> <td> 0.224</td> <td>   -0.853</td> <td>    0.200</td>\n",
       "</tr>\n",
       "<tr>\n",
       "  <th>Pstatus_bin</th>    <td>   -0.5464</td> <td>    0.382</td> <td>   -1.430</td> <td> 0.153</td> <td>   -1.295</td> <td>    0.202</td>\n",
       "</tr>\n",
       "<tr>\n",
       "  <th>Medu_bin</th>       <td>    0.3504</td> <td>    0.272</td> <td>    1.290</td> <td> 0.197</td> <td>   -0.182</td> <td>    0.883</td>\n",
       "</tr>\n",
       "<tr>\n",
       "  <th>Fedu_bin</th>       <td>  -31.1187</td> <td>    4e+06</td> <td>-7.78e-06</td> <td> 1.000</td> <td>-7.84e+06</td> <td> 7.84e+06</td>\n",
       "</tr>\n",
       "<tr>\n",
       "  <th>Mjob_bin</th>       <td>   -0.0720</td> <td>    0.268</td> <td>   -0.269</td> <td> 0.788</td> <td>   -0.597</td> <td>    0.453</td>\n",
       "</tr>\n",
       "<tr>\n",
       "  <th>Fjob_bin</th>       <td>   -0.5516</td> <td>    0.257</td> <td>   -2.143</td> <td> 0.032</td> <td>   -1.056</td> <td>   -0.047</td>\n",
       "</tr>\n",
       "<tr>\n",
       "  <th>reason_bin</th>     <td>   -0.2854</td> <td>    0.249</td> <td>   -1.145</td> <td> 0.252</td> <td>   -0.774</td> <td>    0.203</td>\n",
       "</tr>\n",
       "<tr>\n",
       "  <th>guardian_bin</th>   <td>   -0.0204</td> <td>    0.265</td> <td>   -0.077</td> <td> 0.939</td> <td>   -0.540</td> <td>    0.499</td>\n",
       "</tr>\n",
       "<tr>\n",
       "  <th>traveltime_bin</th> <td>    0.3686</td> <td>    0.262</td> <td>    1.409</td> <td> 0.159</td> <td>   -0.144</td> <td>    0.881</td>\n",
       "</tr>\n",
       "<tr>\n",
       "  <th>studytime_bin</th>  <td>   -0.3116</td> <td>    0.240</td> <td>   -1.297</td> <td> 0.194</td> <td>   -0.782</td> <td>    0.159</td>\n",
       "</tr>\n",
       "<tr>\n",
       "  <th>failures_bin</th>   <td>    1.3740</td> <td>    0.323</td> <td>    4.256</td> <td> 0.000</td> <td>    0.741</td> <td>    2.007</td>\n",
       "</tr>\n",
       "<tr>\n",
       "  <th>schoolsup_bin</th>  <td>    1.2130</td> <td>    0.363</td> <td>    3.345</td> <td> 0.001</td> <td>    0.502</td> <td>    1.924</td>\n",
       "</tr>\n",
       "<tr>\n",
       "  <th>famsup_bin</th>     <td>   -0.3497</td> <td>    0.260</td> <td>   -1.346</td> <td> 0.178</td> <td>   -0.859</td> <td>    0.160</td>\n",
       "</tr>\n",
       "<tr>\n",
       "  <th>paid_bin</th>       <td>    0.0349</td> <td>    0.258</td> <td>    0.135</td> <td> 0.892</td> <td>   -0.470</td> <td>    0.540</td>\n",
       "</tr>\n",
       "<tr>\n",
       "  <th>activities_bin</th> <td>   -0.1453</td> <td>    0.244</td> <td>   -0.595</td> <td> 0.552</td> <td>   -0.624</td> <td>    0.333</td>\n",
       "</tr>\n",
       "<tr>\n",
       "  <th>nursery_bin</th>    <td>   -0.1136</td> <td>    0.288</td> <td>   -0.394</td> <td> 0.693</td> <td>   -0.678</td> <td>    0.451</td>\n",
       "</tr>\n",
       "<tr>\n",
       "  <th>higher_bin</th>     <td>    1.2863</td> <td>    0.589</td> <td>    2.184</td> <td> 0.029</td> <td>    0.132</td> <td>    2.441</td>\n",
       "</tr>\n",
       "<tr>\n",
       "  <th>internet_bin</th>   <td>    0.2166</td> <td>    0.318</td> <td>    0.680</td> <td> 0.496</td> <td>   -0.407</td> <td>    0.841</td>\n",
       "</tr>\n",
       "<tr>\n",
       "  <th>romantic_bin</th>   <td>    0.2199</td> <td>    0.260</td> <td>    0.846</td> <td> 0.398</td> <td>   -0.289</td> <td>    0.729</td>\n",
       "</tr>\n",
       "<tr>\n",
       "  <th>famrel_bin</th>     <td>    0.2980</td> <td>    0.238</td> <td>    1.251</td> <td> 0.211</td> <td>   -0.169</td> <td>    0.765</td>\n",
       "</tr>\n",
       "<tr>\n",
       "  <th>freetime_bin</th>   <td>   -0.7343</td> <td>    0.249</td> <td>   -2.945</td> <td> 0.003</td> <td>   -1.223</td> <td>   -0.246</td>\n",
       "</tr>\n",
       "<tr>\n",
       "  <th>Dalc_bin</th>       <td>    0.1406</td> <td>    0.306</td> <td>    0.459</td> <td> 0.646</td> <td>   -0.460</td> <td>    0.741</td>\n",
       "</tr>\n",
       "<tr>\n",
       "  <th>Walc_bin</th>       <td>    0.2440</td> <td>    0.286</td> <td>    0.853</td> <td> 0.393</td> <td>   -0.316</td> <td>    0.804</td>\n",
       "</tr>\n",
       "<tr>\n",
       "  <th>absences_bin</th>   <td>   -0.3001</td> <td>    0.273</td> <td>   -1.101</td> <td> 0.271</td> <td>   -0.834</td> <td>    0.234</td>\n",
       "</tr>\n",
       "<tr>\n",
       "  <th>age_bin</th>        <td>   -0.3477</td> <td>    0.266</td> <td>   -1.305</td> <td> 0.192</td> <td>   -0.870</td> <td>    0.175</td>\n",
       "</tr>\n",
       "<tr>\n",
       "  <th>goout_bin</th>      <td>   -0.6594</td> <td>    0.266</td> <td>   -2.477</td> <td> 0.013</td> <td>   -1.181</td> <td>   -0.138</td>\n",
       "</tr>\n",
       "<tr>\n",
       "  <th>health_bin</th>     <td>    0.1711</td> <td>    0.239</td> <td>    0.717</td> <td> 0.473</td> <td>   -0.297</td> <td>    0.639</td>\n",
       "</tr>\n",
       "</table>"
      ],
      "text/plain": [
       "<class 'statsmodels.iolib.table.SimpleTable'>"
      ]
     },
     "execution_count": 26,
     "metadata": {},
     "output_type": "execute_result"
    }
   ],
   "source": [
    "m1_logit_G2 = smf.logit('G2_bin ~ school_bin + sex_bin + address_bin + famsize_bin + Pstatus_bin + Medu_bin + Fedu_bin + Mjob_bin + Fjob_bin + reason_bin + guardian_bin + traveltime_bin + studytime_bin + failures_bin + schoolsup_bin + famsup_bin + paid_bin + activities_bin + nursery_bin + higher_bin + internet_bin + romantic_bin + famrel_bin + freetime_bin + Dalc_bin + Walc_bin + absences_bin + age_bin + goout_bin + health_bin', df_trabajo).fit()\n",
    "m1_logit_G2.summary().tables[1]"
   ]
  },
  {
   "cell_type": "code",
   "execution_count": 27,
   "metadata": {},
   "outputs": [
    {
     "name": "stdout",
     "output_type": "stream",
     "text": [
      "Warning: Maximum number of iterations has been exceeded.\n",
      "         Current function value: 0.577052\n",
      "         Iterations: 35\n"
     ]
    },
    {
     "data": {
      "text/html": [
       "<table class=\"simpletable\">\n",
       "<tr>\n",
       "         <td></td>           <th>coef</th>     <th>std err</th>      <th>z</th>      <th>P>|z|</th>  <th>[0.025</th>    <th>0.975]</th>  \n",
       "</tr>\n",
       "<tr>\n",
       "  <th>Intercept</th>      <td>    1.4182</td> <td>    0.603</td> <td>    2.351</td> <td> 0.019</td> <td>    0.236</td> <td>    2.600</td>\n",
       "</tr>\n",
       "<tr>\n",
       "  <th>school_bin</th>     <td>    0.0360</td> <td>    0.396</td> <td>    0.091</td> <td> 0.928</td> <td>   -0.740</td> <td>    0.812</td>\n",
       "</tr>\n",
       "<tr>\n",
       "  <th>sex_bin</th>        <td>   -0.5191</td> <td>    0.250</td> <td>   -2.076</td> <td> 0.038</td> <td>   -1.009</td> <td>   -0.029</td>\n",
       "</tr>\n",
       "<tr>\n",
       "  <th>address_bin</th>    <td>    0.1717</td> <td>    0.308</td> <td>    0.557</td> <td> 0.578</td> <td>   -0.433</td> <td>    0.776</td>\n",
       "</tr>\n",
       "<tr>\n",
       "  <th>famsize_bin</th>    <td>   -0.2402</td> <td>    0.264</td> <td>   -0.910</td> <td> 0.363</td> <td>   -0.757</td> <td>    0.277</td>\n",
       "</tr>\n",
       "<tr>\n",
       "  <th>Pstatus_bin</th>    <td>   -0.3333</td> <td>    0.378</td> <td>   -0.882</td> <td> 0.378</td> <td>   -1.074</td> <td>    0.408</td>\n",
       "</tr>\n",
       "<tr>\n",
       "  <th>Medu_bin</th>       <td>    0.1713</td> <td>    0.269</td> <td>    0.636</td> <td> 0.525</td> <td>   -0.357</td> <td>    0.699</td>\n",
       "</tr>\n",
       "<tr>\n",
       "  <th>Fedu_bin</th>       <td>  -32.1287</td> <td> 6.46e+06</td> <td>-4.98e-06</td> <td> 1.000</td> <td>-1.27e+07</td> <td> 1.27e+07</td>\n",
       "</tr>\n",
       "<tr>\n",
       "  <th>Mjob_bin</th>       <td>   -0.5964</td> <td>    0.268</td> <td>   -2.223</td> <td> 0.026</td> <td>   -1.122</td> <td>   -0.071</td>\n",
       "</tr>\n",
       "<tr>\n",
       "  <th>Fjob_bin</th>       <td>   -0.3285</td> <td>    0.253</td> <td>   -1.300</td> <td> 0.194</td> <td>   -0.824</td> <td>    0.167</td>\n",
       "</tr>\n",
       "<tr>\n",
       "  <th>reason_bin</th>     <td>   -0.5461</td> <td>    0.248</td> <td>   -2.200</td> <td> 0.028</td> <td>   -1.033</td> <td>   -0.060</td>\n",
       "</tr>\n",
       "<tr>\n",
       "  <th>guardian_bin</th>   <td>    0.0560</td> <td>    0.261</td> <td>    0.214</td> <td> 0.830</td> <td>   -0.456</td> <td>    0.568</td>\n",
       "</tr>\n",
       "<tr>\n",
       "  <th>traveltime_bin</th> <td>    0.0900</td> <td>    0.257</td> <td>    0.350</td> <td> 0.726</td> <td>   -0.414</td> <td>    0.594</td>\n",
       "</tr>\n",
       "<tr>\n",
       "  <th>studytime_bin</th>  <td>   -0.3053</td> <td>    0.238</td> <td>   -1.285</td> <td> 0.199</td> <td>   -0.771</td> <td>    0.160</td>\n",
       "</tr>\n",
       "<tr>\n",
       "  <th>failures_bin</th>   <td>    1.2158</td> <td>    0.316</td> <td>    3.847</td> <td> 0.000</td> <td>    0.596</td> <td>    1.835</td>\n",
       "</tr>\n",
       "<tr>\n",
       "  <th>schoolsup_bin</th>  <td>    0.7567</td> <td>    0.350</td> <td>    2.159</td> <td> 0.031</td> <td>    0.070</td> <td>    1.444</td>\n",
       "</tr>\n",
       "<tr>\n",
       "  <th>famsup_bin</th>     <td>   -0.4237</td> <td>    0.257</td> <td>   -1.650</td> <td> 0.099</td> <td>   -0.927</td> <td>    0.079</td>\n",
       "</tr>\n",
       "<tr>\n",
       "  <th>paid_bin</th>       <td>    0.2635</td> <td>    0.256</td> <td>    1.030</td> <td> 0.303</td> <td>   -0.238</td> <td>    0.765</td>\n",
       "</tr>\n",
       "<tr>\n",
       "  <th>activities_bin</th> <td>   -0.2536</td> <td>    0.242</td> <td>   -1.050</td> <td> 0.294</td> <td>   -0.727</td> <td>    0.220</td>\n",
       "</tr>\n",
       "<tr>\n",
       "  <th>nursery_bin</th>    <td>   -0.1292</td> <td>    0.284</td> <td>   -0.455</td> <td> 0.649</td> <td>   -0.686</td> <td>    0.428</td>\n",
       "</tr>\n",
       "<tr>\n",
       "  <th>higher_bin</th>     <td>    1.4639</td> <td>    0.580</td> <td>    2.522</td> <td> 0.012</td> <td>    0.326</td> <td>    2.601</td>\n",
       "</tr>\n",
       "<tr>\n",
       "  <th>internet_bin</th>   <td>    0.3286</td> <td>    0.316</td> <td>    1.041</td> <td> 0.298</td> <td>   -0.290</td> <td>    0.947</td>\n",
       "</tr>\n",
       "<tr>\n",
       "  <th>romantic_bin</th>   <td>    0.0027</td> <td>    0.258</td> <td>    0.011</td> <td> 0.992</td> <td>   -0.503</td> <td>    0.508</td>\n",
       "</tr>\n",
       "<tr>\n",
       "  <th>famrel_bin</th>     <td>    0.4820</td> <td>    0.237</td> <td>    2.036</td> <td> 0.042</td> <td>    0.018</td> <td>    0.946</td>\n",
       "</tr>\n",
       "<tr>\n",
       "  <th>freetime_bin</th>   <td>   -0.7496</td> <td>    0.247</td> <td>   -3.032</td> <td> 0.002</td> <td>   -1.234</td> <td>   -0.265</td>\n",
       "</tr>\n",
       "<tr>\n",
       "  <th>Dalc_bin</th>       <td>    0.4919</td> <td>    0.302</td> <td>    1.630</td> <td> 0.103</td> <td>   -0.099</td> <td>    1.083</td>\n",
       "</tr>\n",
       "<tr>\n",
       "  <th>Walc_bin</th>       <td>    0.0207</td> <td>    0.281</td> <td>    0.073</td> <td> 0.942</td> <td>   -0.531</td> <td>    0.572</td>\n",
       "</tr>\n",
       "<tr>\n",
       "  <th>absences_bin</th>   <td>   -0.0944</td> <td>    0.268</td> <td>   -0.352</td> <td> 0.725</td> <td>   -0.620</td> <td>    0.431</td>\n",
       "</tr>\n",
       "<tr>\n",
       "  <th>age_bin</th>        <td>    0.1064</td> <td>    0.263</td> <td>    0.405</td> <td> 0.686</td> <td>   -0.409</td> <td>    0.622</td>\n",
       "</tr>\n",
       "<tr>\n",
       "  <th>goout_bin</th>      <td>   -0.6805</td> <td>    0.264</td> <td>   -2.576</td> <td> 0.010</td> <td>   -1.198</td> <td>   -0.163</td>\n",
       "</tr>\n",
       "<tr>\n",
       "  <th>health_bin</th>     <td>   -0.1278</td> <td>    0.236</td> <td>   -0.541</td> <td> 0.589</td> <td>   -0.591</td> <td>    0.335</td>\n",
       "</tr>\n",
       "</table>"
      ],
      "text/plain": [
       "<class 'statsmodels.iolib.table.SimpleTable'>"
      ]
     },
     "execution_count": 27,
     "metadata": {},
     "output_type": "execute_result"
    }
   ],
   "source": [
    "m1_logit_G1 = smf.logit('G1_bin ~ school_bin + sex_bin + address_bin + famsize_bin + Pstatus_bin + Medu_bin + Fedu_bin + Mjob_bin + Fjob_bin + reason_bin + guardian_bin + traveltime_bin + studytime_bin + failures_bin + schoolsup_bin + famsup_bin + paid_bin + activities_bin + nursery_bin + higher_bin + internet_bin + romantic_bin + famrel_bin + freetime_bin + Dalc_bin + Walc_bin + absences_bin + age_bin + goout_bin + health_bin', df_trabajo).fit()\n",
    "m1_logit_G1.summary().tables[1]"
   ]
  },
  {
   "cell_type": "markdown",
   "metadata": {},
   "source": [
    "### Interpretación:\n",
    "De un total de 30 atributos analizados:\n",
    "* **G3:** Solo 5 de ellos fueron considerados como significativos (p < 0.05), las que guardan relación con el nivel de reprobación de asignaturas (failures_bin), apoyo educacional del colegio (schoolsup_bin), la cantidad de tiempo libre fuera del colegio (freetime_bin), el nivel de inasistencias (absences_bin) y la cantidad de salidas con amigos (goout_bin). Cada una de estas corresponden a datos sociodemográficos y conductuales.\n",
    "\n",
    "* **G2:** 6 de ellos fueron considerados como significativos (p < 0.05), las que guardan relación con el trabajo del padre (Fjob_bin), el nivel de reprobación de asignaturas (failures_bin), apoyo educacional del colegio (schoolsup_bin), la cantidad de tiempo libre fuera del colegio (freetime_bin), el interés con proseguir estudios superiores (higher_bin) y la cantidad de salidas con amigos (goout_bin). Al igual que en el caso anterior, cada una de estas corresponden a datos sociodemográficos y conductuales.\n",
    "\n",
    "* **G1:** 9 de ellos fueron considerados como significativos (p < 0.05), las que guardan relación con el sexo del estudiante (sex_bin), trabajo de la madre (Mjob_bin), las razones para escoger la escuela (reason_bin), el nivel de reprobación de asignaturas (failures_bin), apoyo educacional del colegio (schoolsup_bin), la cantidad de tiempo libre fuera del colegio (freetime_bin), el interés con proseguir estudios superiores (higher_bin), la relación con los padres (famrel_bin) y la cantidad de salidas con amigos (goout_bin). Si bien existen datos sociodemográficos y conductuales, aparecen por primera vez un aspecto ambiental.\n",
    "\n",
    "La mayor cantidad de atributos durante el primer semestre, puede guardar relación con la influencia y perspectivas del inicio de semestre: la influencia del trabajo de la madre (su nivel de participación), el rol que esta cumple como apoderado, la relación parental y las razones por las que se escogió el colegio como proyección del inicio de semestre, parecen influir en que los puntajes semestrales sean mayores. Sin embargo, dicha influencia tiende a perderse con el tiempo, viéndose afectado por el rol del padre en el proceso educativo y las aspiraciones a cursar estudios superiores durante el segundo semestre. Es importante recalcar que, pese a lo anterior, **hay 4 atributos que se mantienen constantes en todos los semestres: el nivel de reprobación de asignaturas (failures_bin), apoyo educacional del colegio (schoolsup_bin), la cantidad de tiempo libre fuera del colegio (freetime_bin) y la la cantidad de salidas con amigos (goout_bin)**. Solo en el final del año, el ausentismo escolar tendría alguna influencia.\n",
    "\n",
    "Considerando lo anterior, se procedió a refactorizar los modelos."
   ]
  },
  {
   "cell_type": "code",
   "execution_count": 28,
   "metadata": {},
   "outputs": [
    {
     "name": "stdout",
     "output_type": "stream",
     "text": [
      "Optimization terminated successfully.\n",
      "         Current function value: 0.623713\n",
      "         Iterations 5\n"
     ]
    },
    {
     "data": {
      "text/html": [
       "<table class=\"simpletable\">\n",
       "<tr>\n",
       "        <td></td>           <th>coef</th>     <th>std err</th>      <th>z</th>      <th>P>|z|</th>  <th>[0.025</th>    <th>0.975]</th>  \n",
       "</tr>\n",
       "<tr>\n",
       "  <th>Intercept</th>     <td>    0.5578</td> <td>    0.303</td> <td>    1.842</td> <td> 0.065</td> <td>   -0.036</td> <td>    1.151</td>\n",
       "</tr>\n",
       "<tr>\n",
       "  <th>failures_bin</th>  <td>    1.4775</td> <td>    0.280</td> <td>    5.272</td> <td> 0.000</td> <td>    0.928</td> <td>    2.027</td>\n",
       "</tr>\n",
       "<tr>\n",
       "  <th>schoolsup_bin</th> <td>    0.6136</td> <td>    0.306</td> <td>    2.008</td> <td> 0.045</td> <td>    0.015</td> <td>    1.212</td>\n",
       "</tr>\n",
       "<tr>\n",
       "  <th>freetime_bin</th>  <td>   -0.5627</td> <td>    0.227</td> <td>   -2.481</td> <td> 0.013</td> <td>   -1.007</td> <td>   -0.118</td>\n",
       "</tr>\n",
       "<tr>\n",
       "  <th>absences_bin</th>  <td>   -0.3984</td> <td>    0.242</td> <td>   -1.648</td> <td> 0.099</td> <td>   -0.872</td> <td>    0.075</td>\n",
       "</tr>\n",
       "<tr>\n",
       "  <th>goout_bin</th>     <td>   -0.6967</td> <td>    0.232</td> <td>   -3.003</td> <td> 0.003</td> <td>   -1.151</td> <td>   -0.242</td>\n",
       "</tr>\n",
       "</table>"
      ],
      "text/plain": [
       "<class 'statsmodels.iolib.table.SimpleTable'>"
      ]
     },
     "execution_count": 28,
     "metadata": {},
     "output_type": "execute_result"
    }
   ],
   "source": [
    "m1_logit_G3_refac = smf.logit('G3_bin ~ failures_bin + schoolsup_bin + freetime_bin + absences_bin + goout_bin', df_trabajo).fit()\n",
    "m1_logit_G3_refac.summary().tables[1]"
   ]
  },
  {
   "cell_type": "code",
   "execution_count": 29,
   "metadata": {},
   "outputs": [
    {
     "name": "stdout",
     "output_type": "stream",
     "text": [
      "Optimization terminated successfully.\n",
      "         Current function value: 0.601794\n",
      "         Iterations 6\n"
     ]
    },
    {
     "data": {
      "text/html": [
       "<table class=\"simpletable\">\n",
       "<tr>\n",
       "        <td></td>           <th>coef</th>     <th>std err</th>      <th>z</th>      <th>P>|z|</th>  <th>[0.025</th>    <th>0.975]</th>  \n",
       "</tr>\n",
       "<tr>\n",
       "  <th>Intercept</th>     <td>    0.5648</td> <td>    0.274</td> <td>    2.063</td> <td> 0.039</td> <td>    0.028</td> <td>    1.101</td>\n",
       "</tr>\n",
       "<tr>\n",
       "  <th>Fjob_bin</th>      <td>   -0.5643</td> <td>    0.227</td> <td>   -2.486</td> <td> 0.013</td> <td>   -1.009</td> <td>   -0.119</td>\n",
       "</tr>\n",
       "<tr>\n",
       "  <th>failures_bin</th>  <td>    1.5199</td> <td>    0.295</td> <td>    5.155</td> <td> 0.000</td> <td>    0.942</td> <td>    2.098</td>\n",
       "</tr>\n",
       "<tr>\n",
       "  <th>schoolsup_bin</th> <td>    1.0445</td> <td>    0.323</td> <td>    3.230</td> <td> 0.001</td> <td>    0.411</td> <td>    1.678</td>\n",
       "</tr>\n",
       "<tr>\n",
       "  <th>freetime_bin</th>  <td>   -0.7524</td> <td>    0.232</td> <td>   -3.243</td> <td> 0.001</td> <td>   -1.207</td> <td>   -0.298</td>\n",
       "</tr>\n",
       "<tr>\n",
       "  <th>higher_bin</th>    <td>    1.0623</td> <td>    0.516</td> <td>    2.060</td> <td> 0.039</td> <td>    0.051</td> <td>    2.073</td>\n",
       "</tr>\n",
       "<tr>\n",
       "  <th>goout_bin</th>     <td>   -0.6848</td> <td>    0.238</td> <td>   -2.878</td> <td> 0.004</td> <td>   -1.151</td> <td>   -0.218</td>\n",
       "</tr>\n",
       "</table>"
      ],
      "text/plain": [
       "<class 'statsmodels.iolib.table.SimpleTable'>"
      ]
     },
     "execution_count": 29,
     "metadata": {},
     "output_type": "execute_result"
    }
   ],
   "source": [
    "m1_logit_G2_refac = smf.logit('G2_bin ~ Fjob_bin + failures_bin + schoolsup_bin + freetime_bin + higher_bin + goout_bin', df_trabajo).fit()\n",
    "m1_logit_G2_refac.summary().tables[1]"
   ]
  },
  {
   "cell_type": "code",
   "execution_count": 30,
   "metadata": {},
   "outputs": [
    {
     "name": "stdout",
     "output_type": "stream",
     "text": [
      "Optimization terminated successfully.\n",
      "         Current function value: 0.603617\n",
      "         Iterations 6\n"
     ]
    },
    {
     "data": {
      "text/html": [
       "<table class=\"simpletable\">\n",
       "<tr>\n",
       "        <td></td>           <th>coef</th>     <th>std err</th>      <th>z</th>      <th>P>|z|</th>  <th>[0.025</th>    <th>0.975]</th>  \n",
       "</tr>\n",
       "<tr>\n",
       "  <th>Intercept</th>     <td>    1.2000</td> <td>    0.380</td> <td>    3.160</td> <td> 0.002</td> <td>    0.456</td> <td>    1.944</td>\n",
       "</tr>\n",
       "<tr>\n",
       "  <th>sex_bin</th>       <td>   -0.4765</td> <td>    0.224</td> <td>   -2.123</td> <td> 0.034</td> <td>   -0.916</td> <td>   -0.037</td>\n",
       "</tr>\n",
       "<tr>\n",
       "  <th>Mjob_bin</th>      <td>   -0.5701</td> <td>    0.235</td> <td>   -2.430</td> <td> 0.015</td> <td>   -1.030</td> <td>   -0.110</td>\n",
       "</tr>\n",
       "<tr>\n",
       "  <th>reason_bin</th>    <td>   -0.4506</td> <td>    0.231</td> <td>   -1.949</td> <td> 0.051</td> <td>   -0.904</td> <td>    0.003</td>\n",
       "</tr>\n",
       "<tr>\n",
       "  <th>failures_bin</th>  <td>    1.2200</td> <td>    0.286</td> <td>    4.267</td> <td> 0.000</td> <td>    0.660</td> <td>    1.780</td>\n",
       "</tr>\n",
       "<tr>\n",
       "  <th>schoolsup_bin</th> <td>    0.7779</td> <td>    0.319</td> <td>    2.442</td> <td> 0.015</td> <td>    0.154</td> <td>    1.402</td>\n",
       "</tr>\n",
       "<tr>\n",
       "  <th>higher_bin</th>    <td>    1.1656</td> <td>    0.519</td> <td>    2.244</td> <td> 0.025</td> <td>    0.148</td> <td>    2.184</td>\n",
       "</tr>\n",
       "<tr>\n",
       "  <th>famrel_bin</th>    <td>    0.3643</td> <td>    0.223</td> <td>    1.632</td> <td> 0.103</td> <td>   -0.073</td> <td>    0.802</td>\n",
       "</tr>\n",
       "<tr>\n",
       "  <th>freetime_bin</th>  <td>   -0.7546</td> <td>    0.234</td> <td>   -3.225</td> <td> 0.001</td> <td>   -1.213</td> <td>   -0.296</td>\n",
       "</tr>\n",
       "<tr>\n",
       "  <th>goout_bin</th>     <td>   -0.7936</td> <td>    0.241</td> <td>   -3.289</td> <td> 0.001</td> <td>   -1.267</td> <td>   -0.321</td>\n",
       "</tr>\n",
       "</table>"
      ],
      "text/plain": [
       "<class 'statsmodels.iolib.table.SimpleTable'>"
      ]
     },
     "execution_count": 30,
     "metadata": {},
     "output_type": "execute_result"
    }
   ],
   "source": [
    "m1_logit_G1_refac = smf.logit('G1_bin ~ sex_bin + Mjob_bin + reason_bin + failures_bin + schoolsup_bin + higher_bin + famrel_bin + freetime_bin + goout_bin', df_trabajo).fit()\n",
    "m1_logit_G1_refac.summary().tables[1]"
   ]
  },
  {
   "cell_type": "code",
   "execution_count": 31,
   "metadata": {},
   "outputs": [],
   "source": [
    "att_refac_G3 = ['failures_bin', 'schoolsup_bin', 'freetime_bin', 'absences_bin', 'goout_bin']\n",
    "att_refac_G2 = ['Fjob_bin', 'failures_bin', 'schoolsup_bin', 'freetime_bin', 'higher_bin', 'goout_bin']\n",
    "att_refac_G1 = ['sex_bin', 'Mjob_bin', 'reason_bin', 'failures_bin', 'schoolsup_bin', 'higher_bin', 'famrel_bin' ,'freetime_bin', 'goout_bin']"
   ]
  },
  {
   "cell_type": "code",
   "execution_count": 32,
   "metadata": {},
   "outputs": [
    {
     "data": {
      "text/html": [
       "<div>\n",
       "<style scoped>\n",
       "    .dataframe tbody tr th:only-of-type {\n",
       "        vertical-align: middle;\n",
       "    }\n",
       "\n",
       "    .dataframe tbody tr th {\n",
       "        vertical-align: top;\n",
       "    }\n",
       "\n",
       "    .dataframe thead th {\n",
       "        text-align: right;\n",
       "    }\n",
       "</style>\n",
       "<table border=\"1\" class=\"dataframe\">\n",
       "  <thead>\n",
       "    <tr style=\"text-align: right;\">\n",
       "      <th></th>\n",
       "      <th>Atributo</th>\n",
       "      <th>Estimación 0</th>\n",
       "      <th>Estimación 1</th>\n",
       "    </tr>\n",
       "  </thead>\n",
       "  <tbody>\n",
       "    <tr>\n",
       "      <td>0</td>\n",
       "      <td>failures_bin</td>\n",
       "      <td>0.635937</td>\n",
       "      <td>0.884446</td>\n",
       "    </tr>\n",
       "    <tr>\n",
       "      <td>1</td>\n",
       "      <td>schoolsup_bin</td>\n",
       "      <td>0.635937</td>\n",
       "      <td>0.763387</td>\n",
       "    </tr>\n",
       "    <tr>\n",
       "      <td>2</td>\n",
       "      <td>freetime_bin</td>\n",
       "      <td>0.635937</td>\n",
       "      <td>0.498771</td>\n",
       "    </tr>\n",
       "    <tr>\n",
       "      <td>3</td>\n",
       "      <td>absences_bin</td>\n",
       "      <td>0.635937</td>\n",
       "      <td>0.539752</td>\n",
       "    </tr>\n",
       "    <tr>\n",
       "      <td>4</td>\n",
       "      <td>goout_bin</td>\n",
       "      <td>0.635937</td>\n",
       "      <td>0.465317</td>\n",
       "    </tr>\n",
       "  </tbody>\n",
       "</table>\n",
       "</div>"
      ],
      "text/plain": [
       "        Atributo  Estimación 0  Estimación 1\n",
       "0   failures_bin      0.635937      0.884446\n",
       "1  schoolsup_bin      0.635937      0.763387\n",
       "2   freetime_bin      0.635937      0.498771\n",
       "3   absences_bin      0.635937      0.539752\n",
       "4      goout_bin      0.635937      0.465317"
      ]
     },
     "execution_count": 32,
     "metadata": {},
     "output_type": "execute_result"
    }
   ],
   "source": [
    "estimador_binario(m1_logit_G3_refac, att_refac_G3)"
   ]
  },
  {
   "cell_type": "code",
   "execution_count": 33,
   "metadata": {},
   "outputs": [
    {
     "data": {
      "text/html": [
       "<div>\n",
       "<style scoped>\n",
       "    .dataframe tbody tr th:only-of-type {\n",
       "        vertical-align: middle;\n",
       "    }\n",
       "\n",
       "    .dataframe tbody tr th {\n",
       "        vertical-align: top;\n",
       "    }\n",
       "\n",
       "    .dataframe thead th {\n",
       "        text-align: right;\n",
       "    }\n",
       "</style>\n",
       "<table border=\"1\" class=\"dataframe\">\n",
       "  <thead>\n",
       "    <tr style=\"text-align: right;\">\n",
       "      <th></th>\n",
       "      <th>Atributo</th>\n",
       "      <th>Estimación 0</th>\n",
       "      <th>Estimación 1</th>\n",
       "    </tr>\n",
       "  </thead>\n",
       "  <tbody>\n",
       "    <tr>\n",
       "      <td>0</td>\n",
       "      <td>Fjob_bin</td>\n",
       "      <td>0.637556</td>\n",
       "      <td>0.500107</td>\n",
       "    </tr>\n",
       "    <tr>\n",
       "      <td>1</td>\n",
       "      <td>failures_bin</td>\n",
       "      <td>0.637556</td>\n",
       "      <td>0.889400</td>\n",
       "    </tr>\n",
       "    <tr>\n",
       "      <td>2</td>\n",
       "      <td>schoolsup_bin</td>\n",
       "      <td>0.637556</td>\n",
       "      <td>0.833309</td>\n",
       "    </tr>\n",
       "    <tr>\n",
       "      <td>3</td>\n",
       "      <td>freetime_bin</td>\n",
       "      <td>0.637556</td>\n",
       "      <td>0.453221</td>\n",
       "    </tr>\n",
       "    <tr>\n",
       "      <td>4</td>\n",
       "      <td>higher_bin</td>\n",
       "      <td>0.637556</td>\n",
       "      <td>0.835775</td>\n",
       "    </tr>\n",
       "    <tr>\n",
       "      <td>5</td>\n",
       "      <td>goout_bin</td>\n",
       "      <td>0.637556</td>\n",
       "      <td>0.470020</td>\n",
       "    </tr>\n",
       "  </tbody>\n",
       "</table>\n",
       "</div>"
      ],
      "text/plain": [
       "        Atributo  Estimación 0  Estimación 1\n",
       "0       Fjob_bin      0.637556      0.500107\n",
       "1   failures_bin      0.637556      0.889400\n",
       "2  schoolsup_bin      0.637556      0.833309\n",
       "3   freetime_bin      0.637556      0.453221\n",
       "4     higher_bin      0.637556      0.835775\n",
       "5      goout_bin      0.637556      0.470020"
      ]
     },
     "execution_count": 33,
     "metadata": {},
     "output_type": "execute_result"
    }
   ],
   "source": [
    "estimador_binario(m1_logit_G2_refac, att_refac_G2)"
   ]
  },
  {
   "cell_type": "code",
   "execution_count": 34,
   "metadata": {},
   "outputs": [
    {
     "data": {
      "text/html": [
       "<div>\n",
       "<style scoped>\n",
       "    .dataframe tbody tr th:only-of-type {\n",
       "        vertical-align: middle;\n",
       "    }\n",
       "\n",
       "    .dataframe tbody tr th {\n",
       "        vertical-align: top;\n",
       "    }\n",
       "\n",
       "    .dataframe thead th {\n",
       "        text-align: right;\n",
       "    }\n",
       "</style>\n",
       "<table border=\"1\" class=\"dataframe\">\n",
       "  <thead>\n",
       "    <tr style=\"text-align: right;\">\n",
       "      <th></th>\n",
       "      <th>Atributo</th>\n",
       "      <th>Estimación 0</th>\n",
       "      <th>Estimación 1</th>\n",
       "    </tr>\n",
       "  </thead>\n",
       "  <tbody>\n",
       "    <tr>\n",
       "      <td>0</td>\n",
       "      <td>sex_bin</td>\n",
       "      <td>0.768525</td>\n",
       "      <td>0.673371</td>\n",
       "    </tr>\n",
       "    <tr>\n",
       "      <td>1</td>\n",
       "      <td>Mjob_bin</td>\n",
       "      <td>0.768525</td>\n",
       "      <td>0.652472</td>\n",
       "    </tr>\n",
       "    <tr>\n",
       "      <td>2</td>\n",
       "      <td>reason_bin</td>\n",
       "      <td>0.768525</td>\n",
       "      <td>0.679059</td>\n",
       "    </tr>\n",
       "    <tr>\n",
       "      <td>3</td>\n",
       "      <td>failures_bin</td>\n",
       "      <td>0.768525</td>\n",
       "      <td>0.918337</td>\n",
       "    </tr>\n",
       "    <tr>\n",
       "      <td>4</td>\n",
       "      <td>schoolsup_bin</td>\n",
       "      <td>0.768525</td>\n",
       "      <td>0.878456</td>\n",
       "    </tr>\n",
       "    <tr>\n",
       "      <td>5</td>\n",
       "      <td>higher_bin</td>\n",
       "      <td>0.768525</td>\n",
       "      <td>0.914170</td>\n",
       "    </tr>\n",
       "    <tr>\n",
       "      <td>6</td>\n",
       "      <td>famrel_bin</td>\n",
       "      <td>0.768525</td>\n",
       "      <td>0.826975</td>\n",
       "    </tr>\n",
       "    <tr>\n",
       "      <td>7</td>\n",
       "      <td>freetime_bin</td>\n",
       "      <td>0.768525</td>\n",
       "      <td>0.609555</td>\n",
       "    </tr>\n",
       "    <tr>\n",
       "      <td>8</td>\n",
       "      <td>goout_bin</td>\n",
       "      <td>0.768525</td>\n",
       "      <td>0.600222</td>\n",
       "    </tr>\n",
       "  </tbody>\n",
       "</table>\n",
       "</div>"
      ],
      "text/plain": [
       "        Atributo  Estimación 0  Estimación 1\n",
       "0        sex_bin      0.768525      0.673371\n",
       "1       Mjob_bin      0.768525      0.652472\n",
       "2     reason_bin      0.768525      0.679059\n",
       "3   failures_bin      0.768525      0.918337\n",
       "4  schoolsup_bin      0.768525      0.878456\n",
       "5     higher_bin      0.768525      0.914170\n",
       "6     famrel_bin      0.768525      0.826975\n",
       "7   freetime_bin      0.768525      0.609555\n",
       "8      goout_bin      0.768525      0.600222"
      ]
     },
     "execution_count": 34,
     "metadata": {},
     "output_type": "execute_result"
    }
   ],
   "source": [
    "estimador_binario(m1_logit_G1_refac, att_refac_G1)"
   ]
  },
  {
   "cell_type": "markdown",
   "metadata": {},
   "source": [
    "### Interpretación:\n",
    "Para cada una de las tablas generadas, estimación 0 hace referencia a la probabilidad de aprobación, mientras que estimación 1 se enfoca en la reprobación.\n",
    "\n",
    "Las refactorizaciones de los atributos significativos, explicaron de manera diferencial cada vector objetivo como sigue:\n",
    "\n",
    "* **G1:** Los factores son capaces de predecir una aprobación del primer semestre en un 77% de los casos. De todos ellos, la relación con los padres durante el primer semestre, así como el apoyo escolar inicial, antecedentes de reprobaciones previas y las aspiraciones a la educación superior permiten predecir la probabilidad de reprobación sobre el 83% de los casos (llegando a valores sobre el 91% en el caso de las reprobaciones previas y las aspiraciones). Se cree que el factor ambiental con los antecedentes del estudiante son claves para una aprobación exitosa.\n",
    "\n",
    "* **G2:** Los factores identificados explican la aprobación en un 64% de los casos. En cuanto a las reprobaciones, los factores más incidentes son la presencia de apoyo educativo, los antecedentes de reprobación y las aspiraciones, los que explican entre el 83% al 89% de los casos. En este caso, solo factores sociodemográficos son requeridos para dicha predicción.\n",
    "\n",
    "* **G3:** Los factores explican la aprobación en un 64% de los casos. Por su parte, solo los antecedentes de reprobación y el apoyo escolar permiten explicar las reprobaciones entre un 76% y un 88% de los casos. Es importante destacar que es el nivel de intervención de las escuelas y el proceso académico de los estudiantes los más relevantes a la hora de evaluar su reprobación."
   ]
  },
  {
   "cell_type": "markdown",
   "metadata": {},
   "source": [
    "# Hito 4"
   ]
  },
  {
   "cell_type": "markdown",
   "metadata": {},
   "source": [
    "Completar el punto de Modelación predictiva.\n",
    "Elementos a considerar en éste hito:\n",
    "* La preparación del ambiente de trabajo (imports, separación de muestras) para\n",
    "* implementar modelos de predicción. (1 punto)\n",
    "* La implementación de por lo menos tres modelos predictivos. (2 puntos)\n",
    "* El reporte del mejor modelo predictivo en base a los resultados. (2 puntos)"
   ]
  },
  {
   "cell_type": "code",
   "execution_count": 35,
   "metadata": {},
   "outputs": [],
   "source": [
    "atributos = []\n",
    "for d in df_trabajo:\n",
    "    if (d != 'G1_bin') and (d != 'G2_bin') and (d != 'G3_bin'):\n",
    "        atributos.append(d)"
   ]
  },
  {
   "cell_type": "markdown",
   "metadata": {},
   "source": [
    "### G3"
   ]
  },
  {
   "cell_type": "markdown",
   "metadata": {},
   "source": [
    "#### * Todos los atributos"
   ]
  },
  {
   "cell_type": "code",
   "execution_count": 36,
   "metadata": {},
   "outputs": [],
   "source": [
    "X_mat_G3 = df_trabajo.loc[:, atributos]\n",
    "X_train_G3, X_test_G3, y_train_G3, y_test_G3 = train_test_split(X_mat_G3, df_trabajo['G3_bin'], test_size = .33, random_state = 20000)"
   ]
  },
  {
   "cell_type": "code",
   "execution_count": 37,
   "metadata": {},
   "outputs": [],
   "source": [
    "X_train_std_G3 = StandardScaler().fit_transform(X_train_G3)\n",
    "X_test_std_G3 = StandardScaler().fit_transform(X_test_G3)\n",
    "default_model_G3 = LogisticRegression().fit(X_train_std_G3, y_train_G3)"
   ]
  },
  {
   "cell_type": "code",
   "execution_count": 38,
   "metadata": {},
   "outputs": [],
   "source": [
    "default_model_G3.coef_\n",
    "default_model_G3.intercept_\n",
    "yhat_G3 = default_model_G3.predict(X_test_std_G3)\n",
    "yhat_pr_G3 = default_model_G3.predict_proba(X_test_std_G3)"
   ]
  },
  {
   "cell_type": "markdown",
   "metadata": {},
   "source": [
    "#### * Atributos refactorizados"
   ]
  },
  {
   "cell_type": "code",
   "execution_count": 39,
   "metadata": {},
   "outputs": [],
   "source": [
    "X_mat_G3_refac = df_trabajo.loc[:, ['failures_bin', 'schoolsup_bin', 'freetime_bin', 'absences_bin', 'goout_bin']]\n",
    "X_train_G3_refac, X_test_G3_refac, y_train_G3_refac, y_test_G3_refac = train_test_split(X_mat_G3_refac, df_trabajo['G3_bin'], test_size = .33, random_state = 20000)"
   ]
  },
  {
   "cell_type": "code",
   "execution_count": 40,
   "metadata": {},
   "outputs": [],
   "source": [
    "X_train_std_G3_refac = StandardScaler().fit_transform(X_train_G3_refac)\n",
    "X_test_std_G3_refac = StandardScaler().fit_transform(X_test_G3_refac)\n",
    "default_model_G3_refac = LogisticRegression().fit(X_train_std_G3_refac, y_train_G3_refac)"
   ]
  },
  {
   "cell_type": "code",
   "execution_count": 41,
   "metadata": {},
   "outputs": [],
   "source": [
    "default_model_G3_refac.coef_\n",
    "default_model_G3_refac.intercept_\n",
    "yhat_G3_refac = default_model_G3_refac.predict(X_test_std_G3_refac)\n",
    "yhat_pr_G3_refac = default_model_G3_refac.predict_proba(X_test_std_G3_refac)"
   ]
  },
  {
   "cell_type": "markdown",
   "metadata": {},
   "source": [
    "* Exactitud, Precisión, Recall y F1"
   ]
  },
  {
   "cell_type": "code",
   "execution_count": 42,
   "metadata": {},
   "outputs": [
    {
     "data": {
      "text/html": [
       "<div>\n",
       "<style scoped>\n",
       "    .dataframe tbody tr th:only-of-type {\n",
       "        vertical-align: middle;\n",
       "    }\n",
       "\n",
       "    .dataframe tbody tr th {\n",
       "        vertical-align: top;\n",
       "    }\n",
       "\n",
       "    .dataframe thead th {\n",
       "        text-align: right;\n",
       "    }\n",
       "</style>\n",
       "<table border=\"1\" class=\"dataframe\">\n",
       "  <thead>\n",
       "    <tr style=\"text-align: right;\">\n",
       "      <th></th>\n",
       "      <th>Exactitud</th>\n",
       "      <th>Precisión</th>\n",
       "      <th>Recall</th>\n",
       "      <th>F1</th>\n",
       "    </tr>\n",
       "  </thead>\n",
       "  <tbody>\n",
       "    <tr>\n",
       "      <td>Todos los atributos</td>\n",
       "      <td>0.679389</td>\n",
       "      <td>0.660714</td>\n",
       "      <td>0.616667</td>\n",
       "      <td>0.637931</td>\n",
       "    </tr>\n",
       "    <tr>\n",
       "      <td>Refactorizados</td>\n",
       "      <td>0.648855</td>\n",
       "      <td>0.652174</td>\n",
       "      <td>0.500000</td>\n",
       "      <td>0.566038</td>\n",
       "    </tr>\n",
       "  </tbody>\n",
       "</table>\n",
       "</div>"
      ],
      "text/plain": [
       "                     Exactitud  Precisión    Recall        F1\n",
       "Todos los atributos   0.679389   0.660714  0.616667  0.637931\n",
       "Refactorizados        0.648855   0.652174  0.500000  0.566038"
      ]
     },
     "execution_count": 42,
     "metadata": {},
     "output_type": "execute_result"
    }
   ],
   "source": [
    "m1_acc = [accuracy_score(y_test_G3, yhat_G3), accuracy_score(y_test_G3_refac, yhat_G3_refac)]\n",
    "m1_prec = [precision_score(y_test_G3, yhat_G3), precision_score(y_test_G3_refac, yhat_G3_refac)]\n",
    "m1_recall = [recall_score(y_test_G3, yhat_G3), recall_score(y_test_G3_refac, yhat_G3_refac)]\n",
    "m1_fscore = [f1_score(y_test_G3, yhat_G3), f1_score(y_test_G3_refac, yhat_G3_refac)]\n",
    "pd.DataFrame({'Exactitud': m1_acc,\n",
    "              'Precisión': m1_prec,\n",
    "              'Recall': m1_recall,\n",
    "              'F1': m1_fscore}, index=['Todos los atributos', 'Refactorizados'])"
   ]
  },
  {
   "cell_type": "markdown",
   "metadata": {},
   "source": [
    "### G2"
   ]
  },
  {
   "cell_type": "markdown",
   "metadata": {},
   "source": [
    "#### * Todos los atributos"
   ]
  },
  {
   "cell_type": "code",
   "execution_count": 43,
   "metadata": {},
   "outputs": [],
   "source": [
    "X_mat_G2 = df_trabajo.loc[:, atributos]\n",
    "X_train_G2, X_test_G2, y_train_G2, y_test_G2 = train_test_split(X_mat_G2, df_trabajo['G2_bin'], test_size = .33, random_state = 20000)"
   ]
  },
  {
   "cell_type": "code",
   "execution_count": 44,
   "metadata": {},
   "outputs": [],
   "source": [
    "X_train_std_G2 = StandardScaler().fit_transform(X_train_G2)\n",
    "X_test_std_G2 = StandardScaler().fit_transform(X_test_G2)\n",
    "default_model_G2 = LogisticRegression().fit(X_train_std_G2, y_train_G2)"
   ]
  },
  {
   "cell_type": "code",
   "execution_count": 45,
   "metadata": {},
   "outputs": [],
   "source": [
    "default_model_G2.coef_\n",
    "default_model_G2.intercept_\n",
    "yhat_G2 = default_model_G2.predict(X_test_std_G2)\n",
    "yhat_pr_G2 = default_model_G2.predict_proba(X_test_std_G2)"
   ]
  },
  {
   "cell_type": "markdown",
   "metadata": {},
   "source": [
    "#### * Atributos refactorizados"
   ]
  },
  {
   "cell_type": "code",
   "execution_count": 46,
   "metadata": {},
   "outputs": [],
   "source": [
    "X_mat_G2_refac = df_trabajo.loc[:, ['Fjob_bin', 'failures_bin', 'schoolsup_bin', 'freetime_bin', 'higher_bin', 'goout_bin']]\n",
    "X_train_G2_refac, X_test_G2_refac, y_train_G2_refac, y_test_G2_refac = train_test_split(X_mat_G2_refac, df_trabajo['G2_bin'], test_size = .33, random_state = 20000)"
   ]
  },
  {
   "cell_type": "code",
   "execution_count": 47,
   "metadata": {},
   "outputs": [],
   "source": [
    "X_train_std_G2_refac = StandardScaler().fit_transform(X_train_G2_refac)\n",
    "X_test_std_G2_refac = StandardScaler().fit_transform(X_test_G2_refac)\n",
    "default_model_G2_refac = LogisticRegression().fit(X_train_std_G2_refac, y_train_G2_refac)"
   ]
  },
  {
   "cell_type": "code",
   "execution_count": 48,
   "metadata": {},
   "outputs": [],
   "source": [
    "default_model_G2_refac.coef_\n",
    "default_model_G2_refac.intercept_\n",
    "yhat_G2_refac = default_model_G2_refac.predict(X_test_std_G2_refac)\n",
    "yhat_pr_G2_refac = default_model_G2_refac.predict_proba(X_test_std_G2_refac)"
   ]
  },
  {
   "cell_type": "markdown",
   "metadata": {},
   "source": [
    "* Exactitud, Precisión, Recall y F1"
   ]
  },
  {
   "cell_type": "code",
   "execution_count": 49,
   "metadata": {},
   "outputs": [
    {
     "data": {
      "text/html": [
       "<div>\n",
       "<style scoped>\n",
       "    .dataframe tbody tr th:only-of-type {\n",
       "        vertical-align: middle;\n",
       "    }\n",
       "\n",
       "    .dataframe tbody tr th {\n",
       "        vertical-align: top;\n",
       "    }\n",
       "\n",
       "    .dataframe thead th {\n",
       "        text-align: right;\n",
       "    }\n",
       "</style>\n",
       "<table border=\"1\" class=\"dataframe\">\n",
       "  <thead>\n",
       "    <tr style=\"text-align: right;\">\n",
       "      <th></th>\n",
       "      <th>Exactitud</th>\n",
       "      <th>Precisión</th>\n",
       "      <th>Recall</th>\n",
       "      <th>F1</th>\n",
       "    </tr>\n",
       "  </thead>\n",
       "  <tbody>\n",
       "    <tr>\n",
       "      <td>Todos los atributos</td>\n",
       "      <td>0.671756</td>\n",
       "      <td>0.684211</td>\n",
       "      <td>0.609375</td>\n",
       "      <td>0.644628</td>\n",
       "    </tr>\n",
       "    <tr>\n",
       "      <td>Refactorizados</td>\n",
       "      <td>0.633588</td>\n",
       "      <td>0.690476</td>\n",
       "      <td>0.453125</td>\n",
       "      <td>0.547170</td>\n",
       "    </tr>\n",
       "  </tbody>\n",
       "</table>\n",
       "</div>"
      ],
      "text/plain": [
       "                     Exactitud  Precisión    Recall        F1\n",
       "Todos los atributos   0.671756   0.684211  0.609375  0.644628\n",
       "Refactorizados        0.633588   0.690476  0.453125  0.547170"
      ]
     },
     "execution_count": 49,
     "metadata": {},
     "output_type": "execute_result"
    }
   ],
   "source": [
    "m1_acc = [accuracy_score(y_test_G2, yhat_G2), accuracy_score(y_test_G2_refac, yhat_G2_refac)]\n",
    "m1_prec = [precision_score(y_test_G2, yhat_G2), precision_score(y_test_G2_refac, yhat_G2_refac)]\n",
    "m1_recall = [recall_score(y_test_G2, yhat_G2), recall_score(y_test_G2_refac, yhat_G2_refac)]\n",
    "m1_fscore = [f1_score(y_test_G2, yhat_G2), f1_score(y_test_G2_refac, yhat_G2_refac)]\n",
    "pd.DataFrame({'Exactitud': m1_acc,\n",
    "              'Precisión': m1_prec,\n",
    "              'Recall': m1_recall,\n",
    "              'F1': m1_fscore}, index=['Todos los atributos', 'Refactorizados'])"
   ]
  },
  {
   "cell_type": "markdown",
   "metadata": {},
   "source": [
    "### G1"
   ]
  },
  {
   "cell_type": "markdown",
   "metadata": {},
   "source": [
    "#### * Todos los atributos"
   ]
  },
  {
   "cell_type": "code",
   "execution_count": 50,
   "metadata": {},
   "outputs": [],
   "source": [
    "X_mat_G1 = df_trabajo.loc[:, atributos]\n",
    "X_train_G1, X_test_G1, y_train_G1, y_test_G1 = train_test_split(X_mat_G1, df_trabajo['G1_bin'], test_size = .33, random_state = 20000)"
   ]
  },
  {
   "cell_type": "code",
   "execution_count": 51,
   "metadata": {},
   "outputs": [],
   "source": [
    "X_train_std_G1 = StandardScaler().fit_transform(X_train_G1)\n",
    "X_test_std_G1 = StandardScaler().fit_transform(X_test_G1)\n",
    "default_model_G1 = LogisticRegression().fit(X_train_std_G1, y_train_G1)"
   ]
  },
  {
   "cell_type": "code",
   "execution_count": 52,
   "metadata": {},
   "outputs": [],
   "source": [
    "default_model_G1.coef_\n",
    "default_model_G1.intercept_\n",
    "yhat_G1 = default_model_G1.predict(X_test_std_G1)\n",
    "yhat_pr_G1 = default_model_G1.predict_proba(X_test_std_G1)"
   ]
  },
  {
   "cell_type": "markdown",
   "metadata": {},
   "source": [
    "#### * Atributos refactorizados"
   ]
  },
  {
   "cell_type": "code",
   "execution_count": 53,
   "metadata": {},
   "outputs": [],
   "source": [
    "X_mat_G1_refac = df_trabajo.loc[:, ['sex_bin', 'Mjob_bin', 'reason_bin', 'failures_bin', 'schoolsup_bin', 'higher_bin', 'famrel_bin' ,'freetime_bin', 'goout_bin']]\n",
    "X_train_G1_refac, X_test_G1_refac, y_train_G1_refac, y_test_G1_refac = train_test_split(X_mat_G1_refac, df_trabajo['G1_bin'], test_size = .33, random_state = 20000)"
   ]
  },
  {
   "cell_type": "code",
   "execution_count": 54,
   "metadata": {},
   "outputs": [],
   "source": [
    "X_train_std_G1_refac = StandardScaler().fit_transform(X_train_G1_refac)\n",
    "X_test_std_G1_refac = StandardScaler().fit_transform(X_test_G1_refac)\n",
    "default_model_G1_refac = LogisticRegression().fit(X_train_std_G1_refac, y_train_G1_refac)"
   ]
  },
  {
   "cell_type": "code",
   "execution_count": 55,
   "metadata": {},
   "outputs": [],
   "source": [
    "default_model_G1_refac.coef_\n",
    "default_model_G1_refac.intercept_\n",
    "yhat_G1_refac = default_model_G1_refac.predict(X_test_std_G1_refac)\n",
    "yhat_pr_G1_refac = default_model_G1_refac.predict_proba(X_test_std_G1_refac)"
   ]
  },
  {
   "cell_type": "markdown",
   "metadata": {},
   "source": [
    "* Exactitud, Precisión, Recall y F1"
   ]
  },
  {
   "cell_type": "code",
   "execution_count": 56,
   "metadata": {},
   "outputs": [
    {
     "data": {
      "text/html": [
       "<div>\n",
       "<style scoped>\n",
       "    .dataframe tbody tr th:only-of-type {\n",
       "        vertical-align: middle;\n",
       "    }\n",
       "\n",
       "    .dataframe tbody tr th {\n",
       "        vertical-align: top;\n",
       "    }\n",
       "\n",
       "    .dataframe thead th {\n",
       "        text-align: right;\n",
       "    }\n",
       "</style>\n",
       "<table border=\"1\" class=\"dataframe\">\n",
       "  <thead>\n",
       "    <tr style=\"text-align: right;\">\n",
       "      <th></th>\n",
       "      <th>Exactitud</th>\n",
       "      <th>Precisión</th>\n",
       "      <th>Recall</th>\n",
       "      <th>F1</th>\n",
       "    </tr>\n",
       "  </thead>\n",
       "  <tbody>\n",
       "    <tr>\n",
       "      <td>Todos los atributos</td>\n",
       "      <td>0.625954</td>\n",
       "      <td>0.673077</td>\n",
       "      <td>0.522388</td>\n",
       "      <td>0.588235</td>\n",
       "    </tr>\n",
       "    <tr>\n",
       "      <td>Refactorizados</td>\n",
       "      <td>0.664122</td>\n",
       "      <td>0.744681</td>\n",
       "      <td>0.522388</td>\n",
       "      <td>0.614035</td>\n",
       "    </tr>\n",
       "  </tbody>\n",
       "</table>\n",
       "</div>"
      ],
      "text/plain": [
       "                     Exactitud  Precisión    Recall        F1\n",
       "Todos los atributos   0.625954   0.673077  0.522388  0.588235\n",
       "Refactorizados        0.664122   0.744681  0.522388  0.614035"
      ]
     },
     "execution_count": 56,
     "metadata": {},
     "output_type": "execute_result"
    }
   ],
   "source": [
    "m1_acc = [accuracy_score(y_test_G1, yhat_G1), accuracy_score(y_test_G1_refac, yhat_G1_refac)]\n",
    "m1_prec = [precision_score(y_test_G1, yhat_G1), precision_score(y_test_G1_refac, yhat_G1_refac)]\n",
    "m1_recall = [recall_score(y_test_G1, yhat_G1), recall_score(y_test_G1_refac, yhat_G1_refac)]\n",
    "m1_fscore = [f1_score(y_test_G1, yhat_G1), f1_score(y_test_G1_refac, yhat_G1_refac)]\n",
    "pd.DataFrame({'Exactitud': m1_acc,\n",
    "              'Precisión': m1_prec,\n",
    "              'Recall': m1_recall,\n",
    "              'F1': m1_fscore}, index=['Todos los atributos', 'Refactorizados'])"
   ]
  },
  {
   "cell_type": "markdown",
   "metadata": {},
   "source": [
    "### Interpretación:\n",
    "Interesantemente, la aproximación desde Machine Learning genera tres modelos cuyos parámetros se analizan a continuación:\n",
    "\n",
    "* **Exactitud y Precision:** Tanto para G1, G2 y G3, las precisiones son superiores al 63%. En cuanto a precisión, estas son superiores al 65%. Existen diferencias entre el uso de todas las variables versus el uso de la forma refactorizada de los atributos: en el caso de G1, la refactorización genera una mayor precisión y exactitud de encontrar a los alumnos con probabilidades de aprobar y reprobar. Si bien, en G2 y G3 es la combinación de todos los atributos la que ofrece los mayores niveles de precisión y exactitud, no son significativos respecto a los valores factorizados.\n",
    "\n",
    "* **Recall y F1:** Los valores de Recall y F1 en todas las condiciones son bajos, llegando a ser inferiores al 50% en algunos casos. Sin embargo es importante destacar el contexto del desarrollo de este modelo: determinar factores predictores de la reprobación. En este sentido, en caso que el modelo llegase a detectar \"Falsos reprobados\", el modelo igualmente adquiere una validez desde el resguardo educativo: las instituciones deben hacer todo lo posible para asegurar el aprendizaje de sus estudiantes. Aún cuando se catalogue a un \"Falso reprobado\", la aplicación de apoyo escolar transitorio haría que aquellos que sí aprobarían lo hagan igualmente.\n",
    "\n",
    "\n",
    "### Conclusión:\n",
    "Se concluye que los factores descritos para G1, G2 y G3 **permiten generar un modelo inicial para tener una primera aproximación de la realidad de los estudiantes, utilizando mayoritariamente factores como los antecedentes de reprobación y la motivación de seguir estudios superiores**. Para aumentar los valores de Recall y F1, se sugiere aumentar el tamaño muestral, encuestando más estudiantes de otras instituciones, a modo de mejorar dichos valores. Así mismo, métodos dimensionales de aprendizaje no supervisado, como K-Means, podrían aportar en la formación de grupos de trabajo y de enfoque escolar, estableciéndose quienes son los grupos prioritarios."
   ]
  }
 ],
 "metadata": {
  "kernelspec": {
   "display_name": "Python 3",
   "language": "python",
   "name": "python3"
  },
  "language_info": {
   "codemirror_mode": {
    "name": "ipython",
    "version": 3
   },
   "file_extension": ".py",
   "mimetype": "text/x-python",
   "name": "python",
   "nbconvert_exporter": "python",
   "pygments_lexer": "ipython3",
   "version": "3.8.8"
  }
 },
 "nbformat": 4,
 "nbformat_minor": 4
}
